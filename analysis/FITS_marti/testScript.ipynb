{
 "cells": [
  {
   "cell_type": "code",
   "execution_count": 1,
   "metadata": {},
   "outputs": [
    {
     "name": "stdout",
     "output_type": "stream",
     "text": [
      "Welcome to JupyROOT 6.28/00\n"
     ]
    }
   ],
   "source": [
    "from prepareFits import *"
   ]
  },
  {
   "cell_type": "code",
   "execution_count": 2,
   "metadata": {},
   "outputs": [
    {
     "name": "stdout",
     "output_type": "stream",
     "text": [
      "[plotHist] START\n",
      "[plotHist] END\n"
     ]
    },
    {
     "name": "stderr",
     "output_type": "stream",
     "text": [
      "Info in <TCanvas::Print>: png file /home/submit/pdmonte/public_html/fits/testing/phi3_SGN_2D_model.png has been created\n",
      "Warning in <TCanvas::Constructor>: Deleting canvas with same name: canvas\n",
      "Info in <TCanvas::Print>: png file /home/submit/pdmonte/public_html/fits/testing/phi3_SGN_2D_model_X.png has been created\n",
      "Warning in <TCanvas::Constructor>: Deleting canvas with same name: canvas\n",
      "Info in <TCanvas::Print>: png file /home/submit/pdmonte/public_html/fits/testing/phi3_SGN_2D_model_Y.png has been created\n"
     ]
    }
   ],
   "source": [
    "nameHistFile = \"/data/submit/pdmonte/outHistsFits/HCandMassHist_Phi3_GF_2018_SEP25_BDTG_df15_dl3684_v0_v1_opt10329_2D.root\"\n",
    "nameImage = \"phi3_SGN_2D_model\"\n",
    "plotHist(nameHistFile, nameImage, is2D=True, xAxisRange=(100, 160))\n",
    "\n",
    "nameHistFile = \"/data/submit/pdmonte/outHistsFits/HCandMassHist_Omega_GF_2018_SEP25_BDTG_df15_dl3684_v0_v1_opt11264_2D.root\"\n",
    "nameImage = \"omega_SGN_2D_model\"\n",
    "#plotHist(nameHistFile, nameImage, is2D=True, xAxisRange=(100, 160))\n",
    "\n",
    "nameHistFile = \"/data/submit/pdmonte/outHistsFits/HCandMassHist_D0Star_GF_2018_SEP25_BDTG_df7_dl3684_v0_v1_opt12167_2D.root\"\n",
    "nameImage = \"d0star_2body_SGN_2D_model\"\n",
    "#plotHist(nameHistFile, nameImage, is2D=True, xAxisRange=(100, 160))"
   ]
  },
  {
   "cell_type": "code",
   "execution_count": null,
   "metadata": {},
   "outputs": [],
   "source": []
  }
 ],
 "metadata": {
  "kernelspec": {
   "display_name": "myenv",
   "language": "python",
   "name": "python3"
  },
  "language_info": {
   "codemirror_mode": {
    "name": "ipython",
    "version": 3
   },
   "file_extension": ".py",
   "mimetype": "text/x-python",
   "name": "python",
   "nbconvert_exporter": "python",
   "pygments_lexer": "ipython3",
   "version": "3.11.3"
  }
 },
 "nbformat": 4,
 "nbformat_minor": 2
}
