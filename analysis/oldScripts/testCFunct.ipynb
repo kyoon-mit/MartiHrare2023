{
 "cells": [
  {
   "cell_type": "code",
   "execution_count": 1,
   "metadata": {},
   "outputs": [
    {
     "name": "stdout",
     "output_type": "stream",
     "text": [
      "Welcome to JupyROOT 6.28/00\n"
     ]
    }
   ],
   "source": [
    "import ROOT"
   ]
  },
  {
   "cell_type": "code",
   "execution_count": 2,
   "metadata": {},
   "outputs": [
    {
     "data": {
      "text/plain": [
       "0"
      ]
     },
     "execution_count": 2,
     "metadata": {},
     "output_type": "execute_result"
    }
   ],
   "source": [
    "s = '''\n",
    "    double crystalBallGeneric(double x, double mu, double sigma, double alphaL, double nL, double alphaR, double nR) {\n",
    "        \n",
    "        double aL = pow((nL/abs(alphaL)), nL) * exp(-alphaL*alphaL/2);\n",
    "        double aR = pow((nR/abs(alphaR)), nR) * exp(-alphaR*alphaR/2);\n",
    "        double bL = nL/abs(alphaL) - abs(alphaL);\n",
    "        double bR = nR/abs(alphaR) - abs(alphaR);\n",
    "\n",
    "        double arg = (x-mu)/sigma;\n",
    "        double val = 0.0;\n",
    "\n",
    "        if (arg < -alphaL){\n",
    "                val = aL * pow((bL - arg), -nL);\n",
    "        } else if (arg <= alphaR){\n",
    "                val = exp(-0.5*arg*arg);\n",
    "        } else {\n",
    "                val = aR * pow((bR + arg), -nR);\n",
    "        }\n",
    "\n",
    "        return val;\n",
    "    }'''\n",
    "ROOT.gInterpreter.ProcessLine(s)"
   ]
  },
  {
   "cell_type": "code",
   "execution_count": 3,
   "metadata": {},
   "outputs": [
    {
     "name": "stdout",
     "output_type": "stream",
     "text": [
      "<class 'cppyy.CPPOverload'>\n"
     ]
    }
   ],
   "source": [
    "ROOT.crystalBallGeneric(2, 2, 2, 2, 2, 2, 2)\n",
    "print(type(ROOT.crystalBallGeneric))"
   ]
  },
  {
   "cell_type": "code",
   "execution_count": 4,
   "metadata": {},
   "outputs": [
    {
     "name": "stdout",
     "output_type": "stream",
     "text": [
      "hello\n"
     ]
    }
   ],
   "source": [
    "print(\"hello\")"
   ]
  }
 ],
 "metadata": {
  "kernelspec": {
   "display_name": "myenv",
   "language": "python",
   "name": "python3"
  },
  "language_info": {
   "codemirror_mode": {
    "name": "ipython",
    "version": 3
   },
   "file_extension": ".py",
   "mimetype": "text/x-python",
   "name": "python",
   "nbconvert_exporter": "python",
   "pygments_lexer": "ipython3",
   "version": "3.11.3"
  }
 },
 "nbformat": 4,
 "nbformat_minor": 2
}
