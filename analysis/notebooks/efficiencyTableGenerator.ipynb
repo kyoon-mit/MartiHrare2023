{
 "cells": [
  {
   "cell_type": "code",
   "execution_count": 10,
   "metadata": {},
   "outputs": [],
   "source": [
    "import re"
   ]
  },
  {
   "cell_type": "code",
   "execution_count": 11,
   "metadata": {},
   "outputs": [],
   "source": [
    "def getDictionaryChannel(filename):\n",
    "    with open(filename, 'r') as file:\n",
    "        for line in file:\n",
    "            if \"SUMMARY\" in line:\n",
    "                next_line = next(file)\n",
    "                next_line = next(file)\n",
    "                match = re.search(r\"all=(\\d+)\", next_line)\n",
    "                allTrigger = int(match.group(1))\n",
    "                next_line = next(file)\n",
    "                next_line = next(file)\n",
    "                next_line = next(file)\n",
    "                match = re.search(r\"pass=(\\d+)\", next_line)\n",
    "                passTrigger = int(match.group(1))\n",
    "                next_line = next(file)\n",
    "                match = re.search(r\"pass=(\\d+)\", next_line)\n",
    "                passGoodPhoton = int(match.group(1))\n",
    "                next_line = next(file)\n",
    "                next_line = next(file)\n",
    "                next_line = next(file)\n",
    "                match = re.search(r\"pass=(\\d+)\", next_line)\n",
    "                passGoodMeson = int(match.group(1))\n",
    "                next_line = next(file)\n",
    "                match = re.search(r\"pass=(\\d+)\", next_line)\n",
    "                passLeptons = int(match.group(1))\n",
    "                next_line = next(file)\n",
    "                match = re.search(r\"pass=(\\d+)\", next_line)\n",
    "                break\n",
    "\n",
    "    trigger = int(round(passTrigger/allTrigger, 2)*100)\n",
    "    photon = int(round(passGoodPhoton/passTrigger, 2)*100)\n",
    "    meson = int(round(passGoodMeson/passGoodPhoton, 2)*100)\n",
    "    leptons = int(round(passLeptons/passGoodMeson, 2)*100)\n",
    "    cumulataive = round(passLeptons/allTrigger, 3)*100\n",
    "    print(allTrigger, passTrigger, passGoodPhoton, passGoodMeson, passLeptons)\n",
    "    out = {\"trigger\": trigger, \"goodPhoton\": photon, \"goodMeson\": meson, \"leptons\": leptons, \"cumulative\": cumulataive}\n",
    "    for key in out:\n",
    "        if out[key] == 100:\n",
    "            out[key] = 99\n",
    "    return out\n",
    "\n",
    "\n",
    "def getAllDictionaries():\n",
    "    phiLogFile = \"/home/submit/pdmonte/CMSSW_10_6_27/src/Hrare2023/analysis/logfiles/NOV05/output_1039_GF_Phi3_2018_20231105_194720.log\"\n",
    "    omegaLogFile = \"/home/submit/pdmonte/CMSSW_10_6_27/src/Hrare2023/analysis/logfiles/NOV05/output_1038_GF_Omega_2018_20231105_194716.log\"\n",
    "    d02LogFile = \"/home/submit/pdmonte/CMSSW_10_6_27/src/Hrare2023/analysis/logfiles/NOV05/output_1041_GF_D0Star_2018_20231105_194404.log\"\n",
    "    d03LogFile = \"/home/submit/pdmonte/CMSSW_10_6_27/src/Hrare2023/analysis/logfiles/NOV05/output_1040_GF_D0StarRho_2018_20231105_194425.log\"\n",
    "    out = {\"Phi\": getDictionaryChannel(phiLogFile), \"Omega\": getDictionaryChannel(omegaLogFile), \"D02\": getDictionaryChannel(d02LogFile), \"D03\": getDictionaryChannel(d03LogFile)}\n",
    "    return out\n",
    "\n",
    "\n",
    "def generateEfficiencyTable(values):\n",
    "    s = '''\n",
    "        \\\\begin{{table}}[!ht]\n",
    "            \\\\centering\n",
    "            \\\\begin{{tabular}}{{|c|c|c|c|c|}}\n",
    "                \\\\hline\n",
    "                \\\\cellcolor{{lightgray}}Selection &\\\\cellcolor{{lightgray}}$\\\\text{{H}}\\\\decaysto \\\\phi\\\\gamma$ &\\\\cellcolor{{lightgray}}$\\\\text{{H}}\\\\decaysto \\\\omega\\\\gamma$ &\\\\cellcolor{{lightgray}}$\\\\text{{H}}\\\\decaysto D^{{*0}}\\\\gamma$ {{\\\\scriptsize(2-body)}}&\\\\cellcolor{{lightgray}}$\\\\text{{H}}\\\\decaysto D^{{*0}}\\\\gamma$ {{\\\\scriptsize(3-body)}}\\\\\\\\ \\\\hline\n",
    "                trigger                                     & {triggerPhi}\\\\%  & {triggerOmega}\\\\%  & {triggerD02}\\\\%  & {triggerD03}\\\\% \\\\\\\\\n",
    "                1 good $\\\\gamma$                             & {goodPhotonPhi}\\\\%  & {goodPhotonOmega}\\\\%  & {goodPhotonD02}\\\\%  & {goodPhotonD03}\\\\% \\\\\\\\\n",
    "                1 good meson                                & {goodMesonPhi}\\\\%  & {goodMesonOmega}\\\\%  & {goodMesonD02}\\\\%  & {goodMesonD03}\\\\% \\\\\\\\\n",
    "                0 leptons                                   & {leptonsPhi}\\\\%  & {leptonsOmega}\\\\%  & {leptonsD02}\\\\%  & {leptonsD03}\\\\% \\\\\\\\ \\\\hline\n",
    "                Cumulative $\\\\epsilon$A                      & {cumulativePhi:.1f}\\\\%  & {cumulativeOmega:.1f}\\\\%  & {cumulativeD02:.1f}\\\\%  & {cumulativeD03:.1f}\\\\% \\\\\\\\\n",
    "                \\\\hline\n",
    "                \\\\end{{tabular}}\n",
    "            \\\\caption{{Signal selection efficiency for all decay channels.}}\n",
    "            \\\\label{{tab:selection_efficiency}}\n",
    "        \\\\end{{table}}\n",
    "        '''\n",
    "    return s.format(triggerPhi = values[\"Phi\"][\"trigger\"], triggerOmega = values[\"Omega\"][\"trigger\"], triggerD02 = values[\"D02\"][\"trigger\"], triggerD03 = values[\"D03\"][\"trigger\"],\n",
    "                    goodPhotonPhi = values[\"Phi\"][\"goodPhoton\"], goodPhotonOmega = values[\"Omega\"][\"goodPhoton\"], goodPhotonD02 = values[\"D02\"][\"goodPhoton\"], goodPhotonD03 = values[\"D03\"][\"goodPhoton\"],\n",
    "                    goodMesonPhi = values[\"Phi\"][\"goodMeson\"], goodMesonOmega = values[\"Omega\"][\"goodMeson\"], goodMesonD02 = values[\"D02\"][\"goodMeson\"], goodMesonD03 = values[\"D03\"][\"goodMeson\"],\n",
    "                    leptonsPhi = values[\"Phi\"][\"leptons\"], leptonsOmega = values[\"Omega\"][\"leptons\"], leptonsD02 = values[\"D02\"][\"leptons\"], leptonsD03 = values[\"D03\"][\"leptons\"],\n",
    "                    cumulativePhi = values[\"Phi\"][\"cumulative\"], cumulativeOmega = values[\"Omega\"][\"cumulative\"], cumulativeD02 = values[\"D02\"][\"cumulative\"], cumulativeD03 = values[\"D03\"][\"cumulative\"])"
   ]
  },
  {
   "cell_type": "code",
   "execution_count": 12,
   "metadata": {},
   "outputs": [
    {
     "name": "stdout",
     "output_type": "stream",
     "text": [
      "937000 220691 197452 65890 65269\n",
      "987500 231469 207268 74360 73241\n",
      "993500 166594 148771 81785 81486\n",
      "996500 188245 168563 42137 41911\n",
      "\n",
      "        \\begin{table}[!ht]\n",
      "            \\centering\n",
      "            \\begin{tabular}{|c|c|c|c|c|}\n",
      "                \\hline\n",
      "                \\cellcolor{lightgray}Selection &\\cellcolor{lightgray}$\\text{H}\\decaysto \\phi\\gamma$ &\\cellcolor{lightgray}$\\text{H}\\decaysto \\omega\\gamma$ &\\cellcolor{lightgray}$\\text{H}\\decaysto D^{*0}\\gamma$ {\\scriptsize(2-body)}&\\cellcolor{lightgray}$\\text{H}\\decaysto D^{*0}\\gamma$ {\\scriptsize(3-body)}\\\\ \\hline\n",
      "                trigger                                     & 24\\%  & 23\\%  & 17\\%  & 19\\% \\\\\n",
      "                1 good $\\gamma$                             & 89\\%  & 90\\%  & 89\\%  & 90\\% \\\\\n",
      "                1 good meson                                & 33\\%  & 36\\%  & 55\\%  & 25\\% \\\\\n",
      "                0 leptons                                   & 99\\%  & 98\\%  & 99\\%  & 99\\% \\\\ \\hline\n",
      "                Cumulative $\\epsilon$A                      & 7.0\\%  & 7.4\\%  & 8.2\\%  & 4.2\\% \\\\\n",
      "                \\hline\n",
      "                \\end{tabular}\n",
      "            \\caption{Signal selection efficiency for all decay channels.}\n",
      "            \\label{tab:selection_efficiency}\n",
      "        \\end{table}\n",
      "        \n",
      "937000 220691 197452 82621 81772\n"
     ]
    },
    {
     "data": {
      "text/plain": [
       "{'trigger': 24,\n",
       " 'goodPhoton': 89,\n",
       " 'goodMeson': 42,\n",
       " 'leptons': 99,\n",
       " 'cumulative': 8.7}"
      ]
     },
     "execution_count": 12,
     "metadata": {},
     "output_type": "execute_result"
    }
   ],
   "source": [
    "print(generateEfficiencyTable(getAllDictionaries()))\n",
    "\n",
    "\n",
    "getDictionaryChannel(\"/home/submit/pdmonte/CMSSW_10_6_27/src/Hrare2023/analysis/logfiles/OCT20/output_1039_GF_Phi3_2018_20231020_164738.log\")"
   ]
  },
  {
   "cell_type": "code",
   "execution_count": null,
   "metadata": {},
   "outputs": [],
   "source": []
  }
 ],
 "metadata": {
  "kernelspec": {
   "display_name": "myenv",
   "language": "python",
   "name": "python3"
  },
  "language_info": {
   "codemirror_mode": {
    "name": "ipython",
    "version": 3
   },
   "file_extension": ".py",
   "mimetype": "text/x-python",
   "name": "python",
   "nbconvert_exporter": "python",
   "pygments_lexer": "ipython3",
   "version": "3.11.3"
  }
 },
 "nbformat": 4,
 "nbformat_minor": 2
}
