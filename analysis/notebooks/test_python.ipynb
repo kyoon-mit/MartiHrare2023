{
 "cells": [
  {
   "cell_type": "code",
   "execution_count": 12,
   "id": "f5a8bc9f-2e0e-478f-9dd7-b5a0c64a170e",
   "metadata": {},
   "outputs": [],
   "source": [
    "from utilsMarti import printTime\n",
    "import datetime\n",
    "import inspect"
   ]
  },
  {
   "cell_type": "code",
   "execution_count": 13,
   "id": "58b51900-a817-4f70-8d7c-1ac50a0222ca",
   "metadata": {},
   "outputs": [],
   "source": [
    "def printWithTimestamp(text, timeStamp=True):\n",
    "    if timeStamp:\n",
    "        a = datetime.datetime.now()\n",
    "        for l in text.splitlines():\n",
    "            print(\"[{} - {}] {}\".format(a.strftime(\"%H:%M:%S.%f\"), inspect.stack()[1].function.ljust(15), l))\n",
    "    else:\n",
    "        print(text)"
   ]
  },
  {
   "cell_type": "code",
   "execution_count": 16,
   "id": "a7e73e8f-680a-4827-82df-e32a96e14c67",
   "metadata": {},
   "outputs": [
    {
     "name": "stdout",
     "output_type": "stream",
     "text": [
      "[12:50:48.015822 - <module>       ] Hello\n",
      "[12:50:48.015822 - <module>       ] My name is marti\n",
      "[12:50:48.015822 - <module>       ] Nice to meet you!\n",
      "[12:50:48.015822 - <module>       ] \n",
      "[12:50:48.015822 - <module>       ] \n",
      "[12:50:48.015822 - <module>       ] hi\n",
      "[12:50:48.015822 - <module>       ] \n",
      "Hello\n",
      "My name is marti\n",
      "Nice to meet you!\n",
      "\n",
      "\n",
      "hi\n",
      "\n",
      "\n"
     ]
    }
   ],
   "source": [
    "text=\"Hello\\nMy name is marti\\nNice to meet you!\\n\\n\\nhi\\n\\n\"\n",
    "printWithTimestamp(text)\n",
    "print(text)"
   ]
  },
  {
   "cell_type": "code",
   "execution_count": 3,
   "id": "7771a5ab-490c-4a23-b786-ed111aa722f5",
   "metadata": {},
   "outputs": [
    {
     "name": "stdout",
     "output_type": "stream",
     "text": [
      "[10:52:09.928617] SRT:\tfuncaller\n",
      "2023-05-25 10:52:09.928617\n",
      "[0, 1, 4, 9, 16, 25, 36, 49, 64, 81]\n",
      "[10:52:10.080726] END:\tfuncaller. ET: 0m 0.152109s\n",
      "2023-05-25 10:52:10.080726\n"
     ]
    }
   ],
   "source": [
    "funcaller()"
   ]
  },
  {
   "cell_type": "code",
   "execution_count": null,
   "id": "45e4ac32-64b3-47ec-a8b0-553c2c511ec9",
   "metadata": {},
   "outputs": [],
   "source": []
  },
  {
   "cell_type": "code",
   "execution_count": null,
   "id": "f6d9412c-ebe7-4d46-ad46-54b2e8b58f23",
   "metadata": {},
   "outputs": [],
   "source": []
  }
 ],
 "metadata": {
  "kernelspec": {
   "display_name": "myenv",
   "language": "python",
   "name": "myenv"
  },
  "language_info": {
   "codemirror_mode": {
    "name": "ipython",
    "version": 3
   },
   "file_extension": ".py",
   "mimetype": "text/x-python",
   "name": "python",
   "nbconvert_exporter": "python",
   "pygments_lexer": "ipython3",
   "version": "3.11.3"
  }
 },
 "nbformat": 4,
 "nbformat_minor": 5
}
