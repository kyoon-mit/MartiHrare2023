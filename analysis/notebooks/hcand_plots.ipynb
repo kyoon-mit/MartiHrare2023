{
 "cells": [
  {
   "cell_type": "code",
   "execution_count": 32,
   "id": "c2c4649d-2470-4889-ba0f-8a71edb1b736",
   "metadata": {},
   "outputs": [
    {
     "name": "stderr",
     "output_type": "stream",
     "text": [
      "Info in <ACLiC>: unmodified script has already been compiled and loaded\n"
     ]
    }
   ],
   "source": [
    "import ROOT\n",
    "import numpy as np\n",
    "import pandas as pd\n",
    "import matplotlib.pyplot as plt\n",
    "from collections import Counter\n",
    "import tqdm\n",
    "\n",
    "\n",
    "ROOT.ROOT.EnableImplicitMT()\n",
    "\n",
    "if \"/home/submit/pdmonte/CMSSW_10_6_27/src/Hrare2023/analysis/func_marti.so\" not in ROOT.gSystem.GetLibraries():\n",
    "    ROOT.gSystem.CompileMacro(\"/home/submit/pdmonte/CMSSW_10_6_27/src/Hrare2023/analysis/func_marti.cc\",\"k\")"
   ]
  },
  {
   "cell_type": "code",
   "execution_count": 2,
   "id": "3e3a260c-1595-424a-bb19-154330a153d2",
   "metadata": {},
   "outputs": [],
   "source": [
    "date = \"JUN15\"\n",
    "\n",
    "chainSGN = ROOT.TChain(\"events\")\n",
    "chainSGN.Add(\"/data/submit/pdmonte/outputs/{0}/2018/outname_mc1041_GFcat_D0StarCat_2018.root\".format(date))\n",
    "\n",
    "df = ROOT.RDataFrame(chainSGN)"
   ]
  },
  {
   "cell_type": "code",
   "execution_count": 39,
   "id": "71fca088-48c6-4d93-8ac3-cbf5fbb23804",
   "metadata": {},
   "outputs": [],
   "source": [
    "import sys\n",
    "# caution: path[0] is reserved for script path (or '' in REPL)\n",
    "sys.path.insert(1, '/home/submit/pdmonte/CMSSW_10_6_27/src/Hrare2023/analysis/FITS_marti')\n",
    "\n",
    "from prepareFits import *"
   ]
  },
  {
   "cell_type": "code",
   "execution_count": 42,
   "id": "c8f962ec-8283-4948-ab3b-aee578563860",
   "metadata": {},
   "outputs": [
    {
     "name": "stderr",
     "output_type": "stream",
     "text": [
      "Warning in <TCanvas::Constructor>: Deleting canvas with same name: canvas\n"
     ]
    },
    {
     "data": {
      "image/png": "[encoded data removed]",
      "text/plain": [
       "<IPython.core.display.Image object>"
      ]
     },
     "metadata": {},
     "output_type": "display_data"
    }
   ],
   "source": [
    "canvas = ROOT.TCanvas(\"canvas\", \"canvas\", 800, 600)\n",
    "\n",
    "tag = \"GFcat\"\n",
    "year = 2018\n",
    "date = \"JUN14\"\n",
    "mesonCat = \"D0StarCat\"\n",
    "extraTitle = \"barrel meson, barrel photon\"\n",
    "\n",
    "hb = getHistoFromFile(getFullNameOfHistFile(mesonCat, tag, year, date, extraTitle=extraTitle))\n",
    "\n",
    "extraTitle = \"endcap meson, endcap photon\"\n",
    "\n",
    "he = getHistoFromFile(getFullNameOfHistFile(mesonCat, tag, year, date, extraTitle=extraTitle))\n",
    "\n",
    "hb.GetXaxis().SetRangeUser(100, 150)\n",
    "he.GetXaxis().SetRangeUser(100, 150)\n",
    "\n",
    "hb.SetFillColorAlpha(ROOT.kRed, 0.5)\n",
    "hb.SetLineColor(ROOT.kBlack)\n",
    "he.SetFillColorAlpha(ROOT.kGreen, 0.5)\n",
    "he.SetLineColor(ROOT.kBlack)\n",
    "\n",
    "hb.Scale(1/hb.GetEntries())\n",
    "he.Scale(1/he.GetEntries())\n",
    "\n",
    "stack = ROOT.THStack(\"stack\", \"Hcandmass\")\n",
    "stack.Add(he)\n",
    "stack.Add(hb)\n",
    "\n",
    "stack.Draw(\"hist nostack\")\n",
    "stack.GetXaxis().SetTitle(\"m [GeV]\")\n",
    "stack.GetYaxis().SetTitle(\"Frequency\")\n",
    "stack.GetXaxis().SetRangeUser(100, 150)\n",
    "\n",
    "legend = ROOT.TLegend(0.60, 0.65, 0.8999, 0.89)\n",
    "legend.SetMargin(0.17)\n",
    "legend.SetBorderSize(0)\n",
    "legend.SetTextSize(0.04)\n",
    "legend.AddEntry(hb, \"Barrel-barrel\", \"f\")\n",
    "legend.AddEntry(he, \"Endcap-endcap\", \"f\")\n",
    "legend.Draw()\n",
    "\n",
    "canvas.Draw()"
   ]
  },
  {
   "cell_type": "code",
   "execution_count": null,
   "id": "c19d9681-e355-40ee-85f8-1fbd6dbd1fdc",
   "metadata": {},
   "outputs": [],
   "source": []
  }
 ],
 "metadata": {
  "kernelspec": {
   "display_name": "myenv",
   "language": "python",
   "name": "myenv"
  },
  "language_info": {
   "codemirror_mode": {
    "name": "ipython",
    "version": 3
   },
   "file_extension": ".py",
   "mimetype": "text/x-python",
   "name": "python",
   "nbconvert_exporter": "python",
   "pygments_lexer": "ipython3",
   "version": "3.11.3"
  }
 },
 "nbformat": 4,
 "nbformat_minor": 5
}
