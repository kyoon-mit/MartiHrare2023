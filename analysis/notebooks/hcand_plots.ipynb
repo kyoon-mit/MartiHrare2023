{
 "cells": [
  {
   "cell_type": "code",
   "execution_count": 2,
   "id": "c2c4649d-2470-4889-ba0f-8a71edb1b736",
   "metadata": {},
   "outputs": [
    {
     "name": "stdout",
     "output_type": "stream",
     "text": [
      "Welcome to JupyROOT 6.28/00\n"
     ]
    }
   ],
   "source": [
    "import ROOT\n",
    "import numpy as np\n",
    "import pandas as pd\n",
    "import matplotlib.pyplot as plt\n",
    "from collections import Counter\n",
    "import tqdm\n",
    "ROOT.ROOT.EnableImplicitMT()\n",
    "\n",
    "if \"/home/submit/pdmonte/CMSSW_10_6_27/src/Hrare2023/analysis/func_marti.so\" not in ROOT.gSystem.GetLibraries():\n",
    "    ROOT.gSystem.CompileMacro(\"/home/submit/pdmonte/CMSSW_10_6_27/src/Hrare2023/analysis/func_marti.cc\",\"k\")"
   ]
  },
  {
   "cell_type": "code",
   "execution_count": 3,
   "id": "3e3a260c-1595-424a-bb19-154330a153d2",
   "metadata": {},
   "outputs": [],
   "source": [
    "date = \"JUN07\"\n",
    "\n",
    "chainSGN = ROOT.TChain(\"events\")\n",
    "#chainSGN.Add(\"/home/submit/pdmonte/CMSSW_10_6_27/src/Hrare2023/analysis/outputs/{0}/2018/outname_mc1040_GFcat_Phi3Cat_2018.root\".format(date))\n",
    "chainSGN.Add(\"/home/submit/pdmonte/CMSSW_10_6_27/src/Hrare2023/analysis/outputs/{0}/2018/outname_mc1039_GFcat_D0StarCat_2018.root\".format(date))\n",
    "\n",
    "df = ROOT.RDataFrame(chainSGN)"
   ]
  },
  {
   "cell_type": "code",
   "execution_count": 4,
   "id": "b1fa8779-fc3c-4fe3-99d4-98bb0a4bc2b2",
   "metadata": {},
   "outputs": [
    {
     "name": "stdout",
     "output_type": "stream",
     "text": [
      "(abs(goodPhotons_eta) > 1.4)\n",
      "!(abs(goodPhotons_eta) > 1.4)\n"
     ]
    },
    {
     "data": {
      "image/png": "[encoded data removed]",
      "text/plain": [
       "<IPython.core.display.Image object>"
      ]
     },
     "metadata": {},
     "output_type": "display_data"
    }
   ],
   "source": [
    "canvas = ROOT.TCanvas(\"canvas\", \"canvas\", 1200, 800)\n",
    "\n",
    "bins, xlow, xhigh = 100*1, 100, 150\n",
    "\n",
    "filt2 = \"(abs(goodMeson_eta) > 1.4)\"\n",
    "filt1 = \"(abs(goodPhotons_eta) > 1.4)\"\n",
    "nofilt = \"!\" + filt1\n",
    "\n",
    "print(filt1)\n",
    "print(nofilt)\n",
    "\n",
    "#Kinematic Mass\n",
    "hgood=df.Define(\"scale\", \"w*lumiIntegrated\")\\\n",
    "    .Define(\"filter1\", filt1)\\\n",
    "    .Define(\"filter2\", filt2)\\\n",
    "    .Filter(\"Sum(filter1)>0 && Sum(filter2)>0\")\\\n",
    "    .Histo1D((\"hist\", \"#phi kinematic mass\", bins, xlow, xhigh),\"HCandMass\")\n",
    "hbad=df.Define(\"scale\", \"w*lumiIntegrated\")\\\n",
    "    .Define(\"filter\", nofilt)\\\n",
    "    .Filter(\"Sum(filter)>0\")\\\n",
    "    .Histo1D((\"hist\", \"#phi kinematic mass\", bins, xlow, xhigh),\"HCandMass\")\n",
    "\n",
    "hbad.SetFillColorAlpha(ROOT.kRed, 0.5)\n",
    "hbad.SetLineColor(ROOT.kBlack)\n",
    "hgood.SetFillColorAlpha(ROOT.kGreen, 0.5)\n",
    "hgood.SetLineColor(ROOT.kBlack)\n",
    "\n",
    "hbad.Scale(1/hbad.GetEntries())\n",
    "hgood.Scale(1/hgood.GetEntries())\n",
    "\n",
    "\n",
    "stack = ROOT.THStack(\"stack\", \"H cand mass\")\n",
    "stack.Add(hgood.GetValue())\n",
    "stack.Add(hbad.GetValue())\n",
    "stack.Draw(\"hist nostack\")\n",
    "stack.GetXaxis().SetTitle(\"m_{H} [GeV]\")\n",
    "stack.GetYaxis().SetTitle(\"Frequency\")\n",
    "\n",
    "legend = ROOT.TLegend(0.55, 0.65, 0.9, 0.89)\n",
    "legend.SetMargin(0.17)\n",
    "legend.SetBorderSize(0)\n",
    "legend.SetTextSize(0.04)\n",
    "legend.AddEntry(hbad.GetValue(), \"#splitline{{Endcap (mean: {:.1f} GeV)}}{{# entries: {:.0f}}}\".format(round(hbad.GetMean(), 1), round(hbad.GetEntries(), 0)), \"f\")\n",
    "legend.AddEntry(hgood.GetValue(), \"#splitline{{Barrel (mean: {:.1f} GeV)}}{{# entries: {:.0f}}}\".format(round(hgood.GetMean(), 1), round(hgood.GetEntries(), 0)), \"f\")\n",
    "legend.Draw()\n",
    "\n",
    "canvas.Draw()\n"
   ]
  },
  {
   "cell_type": "code",
   "execution_count": 5,
   "id": "e6c16882-002e-43ad-b296-589471823a0c",
   "metadata": {},
   "outputs": [],
   "source": [
    "dfext = df.Define(\"D0GenPT\", \"getPTParticleMotherGrandMother(GenPart_pdgId, GenPart_genPartIdxMother, GenPart_pt, 421, 423, 25)[0]\")\\\n",
    "    .Define(\"D0GenPhi\", \"getPhiEtaParticleMotherGrandMother(GenPart_pdgId, GenPart_genPartIdxMother, GenPart_phi, GenPart_eta, 421, 423, 25)[0]\")\\\n",
    "    .Define(\"D0GenEta\", \"getPhiEtaParticleMotherGrandMother(GenPart_pdgId, GenPart_genPartIdxMother, GenPart_phi, GenPart_eta, 421, 423, 25)[1]\")\\\n",
    "    .Define(\"PhotonGenPT\", \"getPTParticleMother(GenPart_pdgId, GenPart_genPartIdxMother, GenPart_pt, 22, 25)[0]\")\\\n",
    "    .Define(\"PhotonGenPhi\", \"getPhiEtaParticleMother(GenPart_pdgId, GenPart_genPartIdxMother, GenPart_phi, GenPart_eta, 22, 25)[0]\")\\\n",
    "    .Define(\"PhotonGenEta\", \"getPhiEtaParticleMother(GenPart_pdgId, GenPart_genPartIdxMother, GenPart_phi, GenPart_eta, 22, 25)[1]\")\\\n",
    "    .Define(\"size\", \"goodMeson_pt.size()\")\\\n",
    "    .Define(\"sizePhoton\", \"goodPhotons_pt.size()\")"
   ]
  },
  {
   "cell_type": "code",
   "execution_count": 6,
   "id": "cee970dd-7cb0-42e0-9890-b84aa2aa25fc",
   "metadata": {},
   "outputs": [
    {
     "data": {
      "text/html": [
       "<div>\n",
       "<style scoped>\n",
       "    .dataframe tbody tr th:only-of-type {\n",
       "        vertical-align: middle;\n",
       "    }\n",
       "\n",
       "    .dataframe tbody tr th {\n",
       "        vertical-align: top;\n",
       "    }\n",
       "\n",
       "    .dataframe thead th {\n",
       "        text-align: right;\n",
       "    }\n",
       "</style>\n",
       "<table border=\"1\" class=\"dataframe\">\n",
       "  <thead>\n",
       "    <tr style=\"text-align: right;\">\n",
       "      <th></th>\n",
       "      <th>PhotonGenPT</th>\n",
       "      <th>PhotonGenEta</th>\n",
       "      <th>goodPhotons_pt</th>\n",
       "      <th>goodPhotons_eta</th>\n",
       "    </tr>\n",
       "  </thead>\n",
       "  <tbody>\n",
       "    <tr>\n",
       "      <th>0</th>\n",
       "      <td>69.750</td>\n",
       "      <td>0.589844</td>\n",
       "      <td>[71.65534973144531, 65.22669219970703]</td>\n",
       "      <td>[0.5904541015625, 1.16357421875]</td>\n",
       "    </tr>\n",
       "    <tr>\n",
       "      <th>1</th>\n",
       "      <td>53.375</td>\n",
       "      <td>-0.636719</td>\n",
       "      <td>[89.93465423583984, 52.553611755371094]</td>\n",
       "      <td>[1.01416015625, -0.6390380859375]</td>\n",
       "    </tr>\n",
       "    <tr>\n",
       "      <th>2</th>\n",
       "      <td>52.500</td>\n",
       "      <td>-0.673828</td>\n",
       "      <td>[53.13038635253906, 41.69599914550781]</td>\n",
       "      <td>[-0.6734619140625, 0.7022705078125]</td>\n",
       "    </tr>\n",
       "    <tr>\n",
       "      <th>3</th>\n",
       "      <td>65.750</td>\n",
       "      <td>-0.984375</td>\n",
       "      <td>[65.65457916259766, 49.02846908569336]</td>\n",
       "      <td>[-0.983154296875, 0.40045166015625]</td>\n",
       "    </tr>\n",
       "    <tr>\n",
       "      <th>4</th>\n",
       "      <td>44.375</td>\n",
       "      <td>-0.400391</td>\n",
       "      <td>[43.91511917114258, 43.499507904052734]</td>\n",
       "      <td>[-0.401123046875, -1.098876953125]</td>\n",
       "    </tr>\n",
       "    <tr>\n",
       "      <th>5</th>\n",
       "      <td>41.875</td>\n",
       "      <td>0.000616</td>\n",
       "      <td>[42.407894134521484, 38.0616455078125]</td>\n",
       "      <td>[-0.0010743141174316406, -0.9825439453125]</td>\n",
       "    </tr>\n",
       "    <tr>\n",
       "      <th>6</th>\n",
       "      <td>180.500</td>\n",
       "      <td>-0.656250</td>\n",
       "      <td>[181.99774169921875, 71.25615692138672]</td>\n",
       "      <td>[-0.6556396484375, -0.38995361328125]</td>\n",
       "    </tr>\n",
       "    <tr>\n",
       "      <th>7</th>\n",
       "      <td>349.000</td>\n",
       "      <td>-0.972656</td>\n",
       "      <td>[343.8994140625, 219.9168701171875]</td>\n",
       "      <td>[-0.971435546875, 1.26171875]</td>\n",
       "    </tr>\n",
       "  </tbody>\n",
       "</table>\n",
       "</div>"
      ],
      "text/plain": [
       "   PhotonGenPT  PhotonGenEta                           goodPhotons_pt   \n",
       "0       69.750      0.589844   [71.65534973144531, 65.22669219970703]  \\\n",
       "1       53.375     -0.636719  [89.93465423583984, 52.553611755371094]   \n",
       "2       52.500     -0.673828   [53.13038635253906, 41.69599914550781]   \n",
       "3       65.750     -0.984375   [65.65457916259766, 49.02846908569336]   \n",
       "4       44.375     -0.400391  [43.91511917114258, 43.499507904052734]   \n",
       "5       41.875      0.000616   [42.407894134521484, 38.0616455078125]   \n",
       "6      180.500     -0.656250  [181.99774169921875, 71.25615692138672]   \n",
       "7      349.000     -0.972656      [343.8994140625, 219.9168701171875]   \n",
       "\n",
       "                              goodPhotons_eta  \n",
       "0            [0.5904541015625, 1.16357421875]  \n",
       "1           [1.01416015625, -0.6390380859375]  \n",
       "2         [-0.6734619140625, 0.7022705078125]  \n",
       "3         [-0.983154296875, 0.40045166015625]  \n",
       "4          [-0.401123046875, -1.098876953125]  \n",
       "5  [-0.0010743141174316406, -0.9825439453125]  \n",
       "6       [-0.6556396484375, -0.38995361328125]  \n",
       "7               [-0.971435546875, 1.26171875]  "
      ]
     },
     "metadata": {},
     "output_type": "display_data"
    }
   ],
   "source": [
    "dfnew = dfext.Filter(\"sizePhoton  > 1\")\n",
    "\n",
    "cols = [\"D0GenPT\", \"D0GenPhi\", \"D0GenEta\", \"goodMeson_pt\", \"goodMeson_phi\", \"goodMeson_eta\", \"goodMeson_vtx_prob\"]\n",
    "cols = [\"PhotonGenPT\", \"PhotonGenEta\", \"goodPhotons_pt\", \"goodPhotons_eta\"]\n",
    "\n",
    "x = dfnew.AsNumpy(columns=cols)\n",
    "\n",
    "pddf = pd.DataFrame(x)\n",
    "\n",
    "display(pddf)"
   ]
  },
  {
   "cell_type": "code",
   "execution_count": 7,
   "id": "861ff65d-d5e5-483d-92fc-928ddc03a7cb",
   "metadata": {},
   "outputs": [
    {
     "name": "stdout",
     "output_type": "stream",
     "text": [
      "filter_0\n",
      "abs(goodMeson_eta) < 1.4\n",
      "Sum(filter_0)>0\n",
      "filter_1\n",
      "abs(goodPhotons_eta) < 1.4\n",
      "Sum(filter_1)>0\n"
     ]
    }
   ],
   "source": [
    "extraTitle = \"barrel meson, barrel photon\"\n",
    "filters = [\"abs(goodMeson_eta) < 1.4\", \"abs(goodPhotons_eta) < 1.4\"]\n",
    "\n",
    "for i in range(len(filters)):\n",
    "    filterName = \"filter_\" + str(i)\n",
    "    print(filterName)\n",
    "    print(filters[i])\n",
    "    print(\"Sum({})>0\".format(filterName))\n"
   ]
  },
  {
   "cell_type": "code",
   "execution_count": 8,
   "id": "573f9a54-a601-4bb1-8aeb-83177d2d6af6",
   "metadata": {},
   "outputs": [
    {
     "name": "stderr",
     "output_type": "stream",
     "text": [
      "Warning in <TCanvas::Constructor>: Deleting canvas with same name: canvas\n"
     ]
    },
    {
     "data": {
      "image/png": "[encoded data removed]",
      "text/plain": [
       "<IPython.core.display.Image object>"
      ]
     },
     "metadata": {},
     "output_type": "display_data"
    }
   ],
   "source": [
    "canvas = ROOT.TCanvas(\"canvas\", \"canvas\", 1200, 800)\n",
    "\n",
    "bins, xlow, xhigh = 100*1, 100, 150\n",
    "\n",
    "df = ROOT.RDataFrame(chainSGN)\n",
    "\n",
    "for i in range(len(filters)):\n",
    "    filterName = \"filter_\" + str(i)\n",
    "    df = df.Define(filterName, filters[i]).Filter(\"Sum({})>0\".format(filterName))\n",
    "\n",
    "\n",
    "hgood=df.Define(\"scale\", \"w*lumiIntegrated\").Histo1D((\"hist\", \"#phi kinematic mass\", bins, xlow, xhigh),\"HCandMass\")\n",
    "hgood.SetFillColorAlpha(ROOT.kGreen, 0.5)\n",
    "hgood.SetLineColor(ROOT.kBlack)\n",
    "hgood.Draw(\"hist\")\n",
    "\n",
    "canvas.Draw()"
   ]
  },
  {
   "cell_type": "code",
   "execution_count": 9,
   "id": "ad1c6025-99ab-49c3-8d0b-6635ea16ae2d",
   "metadata": {},
   "outputs": [
    {
     "name": "stdout",
     "output_type": "stream",
     "text": [
      "<class cppyy.gbl.ROOT.RDF.RResultPtr<TH1D> at 0x55f8ac27a090>\n",
      "<class cppyy.gbl.TH1D at 0x55f8af3a07f0>\n",
      "<class cppyy.gbl.TH1D at 0x55f8af3a07f0>\n"
     ]
    }
   ],
   "source": [
    "print(type(hgood))\n",
    "print(type(hgood.GetValue()))\n",
    "h = ROOT.TH1D(hgood.GetValue())\n",
    "print(type(h))"
   ]
  },
  {
   "cell_type": "code",
   "execution_count": 19,
   "id": "6c01c9b2-8bb1-41d5-9174-e910dbae1a6b",
   "metadata": {},
   "outputs": [],
   "source": [
    "def getHistoFromFile(fileName):\n",
    "    with ROOT.TFile(fileName, \"read\") as infile:\n",
    "        h = infile.Get(\"myhisto\")\n",
    "        #Hist is associated with file and becomes None when file is destroyed. This line is to disassociate\n",
    "        h.SetDirectory(0)\n",
    "        return h\n",
    "\n",
    "\n",
    "def saveHistoToFile(h, fileName):\n",
    "    with ROOT.TFile(fileName, \"recreate\") as outfile:\n",
    "        outfile.WriteObject(h, \"myhisto\")"
   ]
  },
  {
   "cell_type": "code",
   "execution_count": 33,
   "id": "c7364255-a8c8-49e8-8305-b6b6bf3e1899",
   "metadata": {},
   "outputs": [
    {
     "name": "stdout",
     "output_type": "stream",
     "text": [
      "HCandMassHist_D0Star_GF_2018_JUN07__barrel_meson_barrel_photon.root\n"
     ]
    }
   ],
   "source": [
    "cat = \"GFcat\"\n",
    "mesonCat = \"D0StarCat\"\n",
    "year = 2018\n",
    "date = \"JUN07\"\n",
    "extraTitle = \"barrel meson, barrel photon\"\n",
    "#extraTitle = None\n",
    "filters = [\"abs(goodMeson_eta) < 1.4\", \"abs(goodPhotons_eta) < 1.4\"]\n",
    "fileName = \"HCandMassHist_\" + mesonCat[:-3] + \"_\" + cat[:-3] + \"_\" + str(year) + \"_\" + date + \".root\"\n",
    "if extraTitle is not None:\n",
    "    fileName = fileName[:-5] + \"__\" + extraTitle.replace(\" \", \"_\").replace(\",\", \"\") + fileName[-5:]\n",
    "\n",
    "print(fileName)"
   ]
  },
  {
   "cell_type": "code",
   "execution_count": 36,
   "id": "923193e1-024c-4c81-98c0-426505259fa5",
   "metadata": {},
   "outputs": [
    {
     "name": "stdout",
     "output_type": "stream",
     "text": [
      "~/public_html/fits/D0Star/D0StarCat_fit.png\n"
     ]
    }
   ],
   "source": [
    "mesonCat = \"D0StarCat\"\n",
    "\n",
    "fileName = \"~/public_html/fits/{}/{}_fit.png\".format(mesonCat[:-3], mesonCat)\n",
    "\n",
    "print(fileName)"
   ]
  },
  {
   "cell_type": "code",
   "execution_count": null,
   "id": "7fd784a8-4ff6-456b-b78c-c8016cd1f718",
   "metadata": {},
   "outputs": [],
   "source": []
  }
 ],
 "metadata": {
  "kernelspec": {
   "display_name": "myenv",
   "language": "python",
   "name": "myenv"
  },
  "language_info": {
   "codemirror_mode": {
    "name": "ipython",
    "version": 3
   },
   "file_extension": ".py",
   "mimetype": "text/x-python",
   "name": "python",
   "nbconvert_exporter": "python",
   "pygments_lexer": "ipython3",
   "version": "3.11.3"
  }
 },
 "nbformat": 4,
 "nbformat_minor": 5
}
