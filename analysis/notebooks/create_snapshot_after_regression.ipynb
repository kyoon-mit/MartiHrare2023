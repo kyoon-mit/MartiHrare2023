{
 "cells": [
  {
   "cell_type": "code",
   "execution_count": 1,
   "id": "7ff9d5a1-c2a9-4d31-b64d-c98c5553c099",
   "metadata": {},
   "outputs": [
    {
     "name": "stdout",
     "output_type": "stream",
     "text": [
      "Welcome to JupyROOT 6.28/00\n"
     ]
    }
   ],
   "source": [
    "import ROOT\n",
    "import numpy as np\n",
    "import pandas as pd\n",
    "\n",
    "if \"/home/submit/pdmonte/CMSSW_10_6_27/src/Hrare2023/analysis/func_marti.so\" not in ROOT.gSystem.GetLibraries():\n",
    "    ROOT.gSystem.CompileMacro(\"/home/submit/pdmonte/CMSSW_10_6_27/src/Hrare2023/analysis/func_marti.cc\",\"k\")\n",
    "\n",
    "if \"/home/submit/pdmonte/CMSSW_10_6_27/src/Hrare2023/analysis/functions.so\" not in ROOT.gSystem.GetLibraries():\n",
    "    ROOT.gSystem.CompileMacro(\"/home/submit/pdmonte/CMSSW_10_6_27/src/Hrare2023/analysis/functions.cc\",\"k\")"
   ]
  },
  {
   "cell_type": "code",
   "execution_count": 2,
   "id": "5223ef5d",
   "metadata": {},
   "outputs": [],
   "source": [
    "def getNumVarsFromCode(code):\n",
    "    nVars = 0\n",
    "    while(code > 0):\n",
    "        nVars += int(code%2)\n",
    "        code = int(code/2)\n",
    "    return nVars\n",
    "\n",
    "\n",
    "def getTotalNumVars(modelName):\n",
    "    splitted = modelName.split(\"_\")\n",
    "    numVars = getNumVarsFromCode(int(splitted[1].replace(\"df\", \"\")))\n",
    "    numVars += getNumVarsFromCode(int(splitted[2].replace(\"dl\", \"\")))\n",
    "    numVars += len(splitted) - 3\n",
    "    if \"opt\" in modelName:\n",
    "        numVars -= 1\n",
    "    return numVars"
   ]
  },
  {
   "cell_type": "code",
   "execution_count": 3,
   "id": "cc60ebd8",
   "metadata": {},
   "outputs": [],
   "source": [
    "modelNamePhi3 =     \"BDTG_df13_dl3620_v0_v1_opt70035\"\n",
    "modelNameOmega =    \"BDTG_df13_dl3620_v0_v1_opt72810\"\n",
    "modelNameD0Star2 =  \"BDTG_df7_dl3684_v0_v1_opt75239\"\n",
    "modelNameD0Star3 =  \"BDTG_df15_dl3684_v0_v1_opt76387\"\n",
    "\n",
    "channel=\"d0star\"\n",
    "date = \"NOV05\"\n",
    "\n",
    "mesonCat = \"\"\n",
    "mesonNum = 0\n",
    "if (channel == \"omega\"):\n",
    "    mesonCat = \"OmegaCat\"\n",
    "    mesonNum = 1038\n",
    "    modelName = modelNameOmega\n",
    "elif (channel == \"phi\"):\n",
    "    mesonCat = \"Phi3Cat\"\n",
    "    mesonNum = 1039\n",
    "    modelName = modelNamePhi3\n",
    "elif (channel == \"d0starrho\"):\n",
    "    mesonCat = \"D0StarRhoCat\"\n",
    "    mesonNum = 1040\n",
    "    modelName = modelNameD0Star3\n",
    "elif (channel == \"d0star\"):\n",
    "    mesonCat = \"D0StarCat\"\n",
    "    mesonNum = 1041\n",
    "    modelName = modelNameD0Star2\n",
    "else:\n",
    "    raise Exception(\"Wrong channel.\")\n",
    "\n",
    "s = '''\n",
    "    TMVA::Experimental::RReader modelScalePhi0(\"/data/submit/pdmonte/TMVA_models/weightsOptsFinal/TMVARegression_{modelName}_{channel}_ggh_0.weights.xml\");\n",
    "    computeModelScalePhi0 = TMVA::Experimental::Compute<{numVarsTotal}, float>(modelScalePhi0);\n",
    "    '''.format(modelName=modelName, channel=channel, numVarsTotal=getTotalNumVars(modelName))\n",
    "s += '''\n",
    "    TMVA::Experimental::RReader modelScalePhi1(\"/data/submit/pdmonte/TMVA_models/weightsOptsFinal/TMVARegression_{modelName}_{channel}_ggh_1.weights.xml\");\n",
    "    computeModelScalePhi1 = TMVA::Experimental::Compute<{numVarsTotal}, float>(modelScalePhi1);\n",
    "    '''.format(modelName=modelName, channel=channel, numVarsTotal=getTotalNumVars(modelName))\n",
    "s += '''\n",
    "    TMVA::Experimental::RReader modelScalePhi2(\"/data/submit/pdmonte/TMVA_models/weightsOptsFinal/TMVARegression_{modelName}_{channel}_ggh_2.weights.xml\");\n",
    "    computeModelScalePhi2 = TMVA::Experimental::Compute<{numVarsTotal}, float>(modelScalePhi2);\n",
    "    '''.format(modelName=modelName, channel=channel, numVarsTotal=getTotalNumVars(modelName))\n",
    "\n",
    "ROOT.gInterpreter.ProcessLine(s)\n",
    "variables = list(ROOT.modelScalePhi0.GetVariableNames())\n",
    "\n",
    "chainSGN0 = ROOT.TChain(\"events\")\n",
    "chainSGN1 = ROOT.TChain(\"events\")\n",
    "chainSGN2 = ROOT.TChain(\"events\")\n",
    "chainSGN0.Add(\"/data/submit/pdmonte/outputs/{0}/2018/outname_mc{1}_GFcat_{2}_2018_sample0.root\".format(date, mesonNum, mesonCat))\n",
    "chainSGN1.Add(\"/data/submit/pdmonte/outputs/{0}/2018/outname_mc{1}_GFcat_{2}_2018_sample1.root\".format(date, mesonNum, mesonCat))\n",
    "chainSGN2.Add(\"/data/submit/pdmonte/outputs/{0}/2018/outname_mc{1}_GFcat_{2}_2018_sample2.root\".format(date, mesonNum, mesonCat))\n",
    "\n",
    "dfSGN0 = ROOT.RDataFrame(chainSGN0)\n",
    "dfSGN1 = ROOT.RDataFrame(chainSGN1)\n",
    "dfSGN2 = ROOT.RDataFrame(chainSGN2)\n",
    "\n",
    "dfSGN0 = (dfSGN0.Define(\"scale\", \"w*lumiIntegrated/3.\")\n",
    "        .Define(\"HCandMass_GEN\", \"compute_HiggsVars_var(goodMeson_pt_GEN, goodMeson_eta_GEN, goodMeson_phi_GEN, goodMeson_mass_GEN, goodPhotons_pt_GEN, goodPhotons_eta_GEN, goodPhotons_phi_GEN, 0)\")\n",
    "        .Define(\"HCandMass_varGEN\", \"compute_HiggsVars_var(goodMeson_pt_GEN, goodMeson_eta[0], goodMeson_phi[0], goodMeson_mass[0], goodPhotons_pt[0], goodPhotons_eta[0], goodPhotons_phi[0], 0)\")\n",
    "        .Define(\"scaleFactor\", ROOT.computeModelScalePhi0, variables)\n",
    "        .Define(\"goodMeson_pt_PRED\", \"scaleFactor[0]*goodMeson_pt[0]\")\n",
    "        .Define(\"HCandMass_varPRED\", \"compute_HiggsVars_var(goodMeson_pt_PRED, goodMeson_eta[0], goodMeson_phi[0], goodMeson_mass[0], goodPhotons_pt[0], goodPhotons_eta[0], goodPhotons_phi[0], 0)\")\n",
    "        .Define(\"HCandPt_varPRED\", \"compute_HiggsVars_var(goodMeson_pt_PRED, goodMeson_eta[0], goodMeson_phi[0], goodMeson_mass[0], goodPhotons_pt[0], goodPhotons_eta[0], goodPhotons_phi[0], 1)\"))\n",
    "dfSGN1 = (dfSGN1.Define(\"scale\", \"w*lumiIntegrated/3.\")\n",
    "        .Define(\"HCandMass_GEN\", \"compute_HiggsVars_var(goodMeson_pt_GEN, goodMeson_eta_GEN, goodMeson_phi_GEN, goodMeson_mass_GEN, goodPhotons_pt_GEN, goodPhotons_eta_GEN, goodPhotons_phi_GEN, 0)\")\n",
    "        .Define(\"HCandMass_varGEN\", \"compute_HiggsVars_var(goodMeson_pt_GEN, goodMeson_eta[0], goodMeson_phi[0], goodMeson_mass[0], goodPhotons_pt[0], goodPhotons_eta[0], goodPhotons_phi[0], 0)\")\n",
    "        .Define(\"scaleFactor\", ROOT.computeModelScalePhi1, variables)\n",
    "        .Define(\"goodMeson_pt_PRED\", \"scaleFactor[0]*goodMeson_pt[0]\")\n",
    "        .Define(\"HCandMass_varPRED\", \"compute_HiggsVars_var(goodMeson_pt_PRED, goodMeson_eta[0], goodMeson_phi[0], goodMeson_mass[0], goodPhotons_pt[0], goodPhotons_eta[0], goodPhotons_phi[0], 0)\")\n",
    "        .Define(\"HCandPt_varPRED\", \"compute_HiggsVars_var(goodMeson_pt_PRED, goodMeson_eta[0], goodMeson_phi[0], goodMeson_mass[0], goodPhotons_pt[0], goodPhotons_eta[0], goodPhotons_phi[0], 1)\"))\n",
    "dfSGN2 = (dfSGN2.Define(\"scale\", \"w*lumiIntegrated/3.\")\n",
    "        .Define(\"HCandMass_GEN\", \"compute_HiggsVars_var(goodMeson_pt_GEN, goodMeson_eta_GEN, goodMeson_phi_GEN, goodMeson_mass_GEN, goodPhotons_pt_GEN, goodPhotons_eta_GEN, goodPhotons_phi_GEN, 0)\")\n",
    "        .Define(\"HCandMass_varGEN\", \"compute_HiggsVars_var(goodMeson_pt_GEN, goodMeson_eta[0], goodMeson_phi[0], goodMeson_mass[0], goodPhotons_pt[0], goodPhotons_eta[0], goodPhotons_phi[0], 0)\")\n",
    "        .Define(\"scaleFactor\", ROOT.computeModelScalePhi2, variables)\n",
    "        .Define(\"goodMeson_pt_PRED\", \"scaleFactor[0]*goodMeson_pt[0]\")\n",
    "        .Define(\"HCandMass_varPRED\", \"compute_HiggsVars_var(goodMeson_pt_PRED, goodMeson_eta[0], goodMeson_phi[0], goodMeson_mass[0], goodPhotons_pt[0], goodPhotons_eta[0], goodPhotons_phi[0], 0)\")\n",
    "        .Define(\"HCandPt_varPRED\", \"compute_HiggsVars_var(goodMeson_pt_PRED, goodMeson_eta[0], goodMeson_phi[0], goodMeson_mass[0], goodPhotons_pt[0], goodPhotons_eta[0], goodPhotons_phi[0], 1)\"))\n",
    "\n",
    "chainBKG = ROOT.TChain(\"events\")\n",
    "chainBKG.Add(\"/data/submit/pdmonte/outputs/{0}/2018/outname_mc10_GFcat_{1}_2018.root\".format(date, mesonCat))\n",
    "chainBKG.Add(\"/data/submit/pdmonte/outputs/{0}/2018/outname_mc11_GFcat_{1}_2018.root\".format(date, mesonCat))\n",
    "chainBKG.Add(\"/data/submit/pdmonte/outputs/{0}/2018/outname_mc12_GFcat_{1}_2018.root\".format(date, mesonCat))\n",
    "chainBKG.Add(\"/data/submit/pdmonte/outputs/{0}/2018/outname_mc13_GFcat_{1}_2018.root\".format(date, mesonCat))\n",
    "chainBKG.Add(\"/data/submit/pdmonte/outputs/{0}/2018/outname_mc14_GFcat_{1}_2018.root\".format(date, mesonCat))\n",
    "\n",
    "dfBKG = ROOT.RDataFrame(chainBKG)\n",
    "dfBKG = (dfBKG.Define(\"scale\", \"w*lumiIntegrated\")\n",
    "        .Define(\"scaleFactor0\", ROOT.computeModelScalePhi0, variables)\n",
    "        .Define(\"scaleFactor1\", ROOT.computeModelScalePhi1, variables)\n",
    "        .Define(\"scaleFactor2\", ROOT.computeModelScalePhi2, variables)\n",
    "        .Define(\"goodMeson_pt_PRED\", \"(scaleFactor0[0]*goodMeson_pt[0] + scaleFactor1[0]*goodMeson_pt[0] + scaleFactor2[0]*goodMeson_pt[0])/3\")\n",
    "        .Define(\"HCandMass_varPRED\", \"compute_HiggsVars_var(goodMeson_pt_PRED, goodMeson_eta[0], goodMeson_phi[0], goodMeson_mass[0], goodPhotons_pt[0], goodPhotons_eta[0], goodPhotons_phi[0], 0)\")\n",
    "        .Define(\"HCandPt_varPRED\", \"compute_HiggsVars_var(goodMeson_pt_PRED, goodMeson_eta[0], goodMeson_phi[0], goodMeson_mass[0], goodPhotons_pt[0], goodPhotons_eta[0], goodPhotons_phi[0], 1)\"))"
   ]
  },
  {
   "cell_type": "code",
   "execution_count": 4,
   "metadata": {},
   "outputs": [
    {
     "data": {
      "text/plain": [
       "<cppyy.gbl.ROOT.RDF.RResultPtr<ROOT::RDF::RInterface<ROOT::Detail::RDF::RLoopManager,void> > object at 0x56304d75efa0>"
      ]
     },
     "execution_count": 4,
     "metadata": {},
     "output_type": "execute_result"
    }
   ],
   "source": [
    "outputFile0 = \"/data/submit/pdmonte/outputs/{0}/2018/outname_mc{1}_GFcat_{2}_2018_sample0_after.root\".format(date, mesonNum, mesonCat)\n",
    "dfSGN0.Snapshot(\"events\", outputFile0)\n",
    "outputFile1 = \"/data/submit/pdmonte/outputs/{0}/2018/outname_mc{1}_GFcat_{2}_2018_sample1_after.root\".format(date, mesonNum, mesonCat)\n",
    "dfSGN1.Snapshot(\"events\", outputFile1)\n",
    "outputFile2 = \"/data/submit/pdmonte/outputs/{0}/2018/outname_mc{1}_GFcat_{2}_2018_sample2_after.root\".format(date, mesonNum, mesonCat)\n",
    "dfSGN2.Snapshot(\"events\", outputFile2)\n",
    "outputFileBKG = \"/data/submit/pdmonte/outputs/{0}/2018/outname_mc{1}_GFcat_{2}_2018_after.root\".format(date, 0, mesonCat)\n",
    "dfBKG.Snapshot(\"events\", outputFileBKG)"
   ]
  },
  {
   "cell_type": "code",
   "execution_count": null,
   "metadata": {},
   "outputs": [],
   "source": []
  }
 ],
 "metadata": {
  "kernelspec": {
   "display_name": "myenv",
   "language": "python",
   "name": "python3"
  },
  "language_info": {
   "codemirror_mode": {
    "name": "ipython",
    "version": 3
   },
   "file_extension": ".py",
   "mimetype": "text/x-python",
   "name": "python",
   "nbconvert_exporter": "python",
   "pygments_lexer": "ipython3",
   "version": "3.11.3"
  }
 },
 "nbformat": 4,
 "nbformat_minor": 5
}
