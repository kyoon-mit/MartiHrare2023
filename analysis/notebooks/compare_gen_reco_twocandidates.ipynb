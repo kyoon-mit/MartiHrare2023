{
 "cells": [
  {
   "cell_type": "code",
   "execution_count": 1,
   "id": "c2c4649d-2470-4889-ba0f-8a71edb1b736",
   "metadata": {},
   "outputs": [
    {
     "name": "stdout",
     "output_type": "stream",
     "text": [
      "Welcome to JupyROOT 6.28/00\n"
     ]
    }
   ],
   "source": [
    "import ROOT\n",
    "import numpy as np\n",
    "import pandas as pd\n",
    "import matplotlib.pyplot as plt\n",
    "#from collections import Counter\n",
    "#import tqdm\n",
    "ROOT.ROOT.EnableImplicitMT()\n",
    "\n",
    "if \"/home/submit/pdmonte/CMSSW_10_6_27/src/Hrare2023/analysis/func_marti.so\" not in ROOT.gSystem.GetLibraries():\n",
    "    ROOT.gSystem.CompileMacro(\"/home/submit/pdmonte/CMSSW_10_6_27/src/Hrare2023/analysis/func_marti.cc\",\"k\")"
   ]
  },
  {
   "cell_type": "code",
   "execution_count": 5,
   "id": "3e3a260c-1595-424a-bb19-154330a153d2",
   "metadata": {},
   "outputs": [],
   "source": [
    "date = \"MAY31\"\n",
    "\n",
    "chainSGN = ROOT.TChain(\"events\")\n",
    "#chainSGN.Add(\"/home/submit/pdmonte/CMSSW_10_6_27/src/Hrare2023/analysis/outputs/{0}/2018/outname_mc1040_GFcat_Phi3Cat_2018.root\".format(date))\n",
    "chainSGN.Add(\"/home/submit/pdmonte/CMSSW_10_6_27/src/Hrare2023/analysis/outputs/{0}/2018/outname_mc1039_GFcat_D0StarCat_2018.root\".format(date))\n",
    "\n",
    "df = ROOT.RDataFrame(chainSGN)\n",
    "\n",
    "df = df.Define(\"D0GenPT\", \"getPTParticleMotherGrandMother(GenPart_pdgId, GenPart_genPartIdxMother, GenPart_pt, 421, 423, 25)[0]\")\\\n",
    "    .Define(\"D0GenPhi\", \"getPhiEtaParticleMotherGrandMother(GenPart_pdgId, GenPart_genPartIdxMother, GenPart_phi, GenPart_eta, 421, 423, 25)[0]\")\\\n",
    "    .Define(\"D0GenEta\", \"getPhiEtaParticleMotherGrandMother(GenPart_pdgId, GenPart_genPartIdxMother, GenPart_phi, GenPart_eta, 421, 423, 25)[1]\")\\\n",
    "    .Define(\"size\", \"goodMeson_pt.size()\")"
   ]
  },
  {
   "cell_type": "code",
   "execution_count": 6,
   "id": "b1fa8779-fc3c-4fe3-99d4-98bb0a4bc2b2",
   "metadata": {},
   "outputs": [
    {
     "name": "stderr",
     "output_type": "stream",
     "text": [
      "Warning in <TCanvas::Constructor>: Deleting canvas with same name: canvas\n"
     ]
    },
    {
     "data": {
      "image/png": "[encoded data removed]",
      "text/plain": [
       "<IPython.core.display.Image object>"
      ]
     },
     "metadata": {},
     "output_type": "display_data"
    }
   ],
   "source": [
    "canvas = ROOT.TCanvas(\"canvas\", \"canvas\", 1200, 800)\n",
    "\n",
    "canvas.Divide(1, 2)\n",
    "\n",
    "bins, xlow, xhigh = 100, 0, 200\n",
    "\n",
    "hgen=df.Filter(\"size == 1\").Histo1D((\"hist\", \"D0 PT Gen\", bins, xlow, xhigh),\"D0GenPT\")\n",
    "\n",
    "hreco=df.Filter(\"size == 1\").Histo1D((\"hist\", \"D0 PT RECO\", bins, xlow, xhigh),\"goodMeson_pt\")\n",
    "\n",
    "\n",
    "\n",
    "hgen.SetFillColor(ROOT.kBlue-7)\n",
    "hgen.SetLineColor(ROOT.kBlack)\n",
    "hreco.SetFillColor(ROOT.kGreen-7)\n",
    "hreco.SetLineColor(ROOT.kBlack)\n",
    "\n",
    "canvas.cd(1)\n",
    "hgen.Draw(\"hist\")\n",
    "canvas.cd(2)\n",
    "hreco.Draw(\"hist\")\n",
    "\n",
    "'''\n",
    "stack = ROOT.THStack(\"stack\", \"H cand mass for phi, reconstruction\")\n",
    "stack.Add(hgood.GetValue())\n",
    "stack.Add(hbad.GetValue())\n",
    "stack.Draw(\"hist nostack\")\n",
    "#stack.GetXaxis().SetTitle(\"p_{T}_{2trk}^{#phi#rightarrow #pi#pi} [GeV]\")\n",
    "stack.GetYaxis().SetTitle(\"Frequency\")\n",
    "\n",
    "legend = ROOT.TLegend(0.15, 0.65, 0.3, 0.89)\n",
    "legend.SetMargin(0.17)\n",
    "legend.SetBorderSize(0)\n",
    "legend.SetTextSize(0.04)\n",
    "legend.AddEntry(hbad.GetValue(), \"#splitline{{Rejected (mean: {:.1f} GeV)}}{{# entries: {:.0f}}}\".format(round(hbad.GetMean(), 1), round(hbad.GetEntries(), 0)), \"f\")\n",
    "legend.AddEntry(hgood.GetValue(), \"#splitline{{Accepted (mean: {:.1f} GeV)}}{{# entries: {:.0f}}}\".format(round(hgood.GetMean(), 1), round(hgood.GetEntries(), 0)), \"f\")\n",
    "legend.Draw()\n",
    "'''\n",
    "\n",
    "\n",
    "canvas.Draw()\n"
   ]
  },
  {
   "cell_type": "code",
   "execution_count": 26,
   "id": "6778abc3-d779-4271-95ce-df6dc1734e13",
   "metadata": {},
   "outputs": [
    {
     "data": {
      "text/html": [
       "<div>\n",
       "<style scoped>\n",
       "    .dataframe tbody tr th:only-of-type {\n",
       "        vertical-align: middle;\n",
       "    }\n",
       "\n",
       "    .dataframe tbody tr th {\n",
       "        vertical-align: top;\n",
       "    }\n",
       "\n",
       "    .dataframe thead th {\n",
       "        text-align: right;\n",
       "    }\n",
       "</style>\n",
       "<table border=\"1\" class=\"dataframe\">\n",
       "  <thead>\n",
       "    <tr style=\"text-align: right;\">\n",
       "      <th></th>\n",
       "      <th>D0GenPT</th>\n",
       "      <th>D0GenPhi</th>\n",
       "      <th>D0GenEta</th>\n",
       "      <th>goodMeson_pt</th>\n",
       "      <th>goodMeson_phi</th>\n",
       "      <th>goodMeson_eta</th>\n",
       "    </tr>\n",
       "  </thead>\n",
       "  <tbody>\n",
       "    <tr>\n",
       "      <th>0</th>\n",
       "      <td>61.625</td>\n",
       "      <td>-0.145508</td>\n",
       "      <td>-1.500000</td>\n",
       "      <td>[61.5971565246582]</td>\n",
       "      <td>[-0.1455514281988144]</td>\n",
       "      <td>[-1.498134732246399]</td>\n",
       "    </tr>\n",
       "    <tr>\n",
       "      <th>1</th>\n",
       "      <td>215.000</td>\n",
       "      <td>-3.000000</td>\n",
       "      <td>-0.278320</td>\n",
       "      <td>[213.74256896972656]</td>\n",
       "      <td>[-2.9967997074127197]</td>\n",
       "      <td>[-0.2780139446258545]</td>\n",
       "    </tr>\n",
       "    <tr>\n",
       "      <th>2</th>\n",
       "      <td>61.875</td>\n",
       "      <td>1.957031</td>\n",
       "      <td>-1.593750</td>\n",
       "      <td>[61.060001373291016]</td>\n",
       "      <td>[1.9556885957717896]</td>\n",
       "      <td>[-1.5929715633392334]</td>\n",
       "    </tr>\n",
       "    <tr>\n",
       "      <th>3</th>\n",
       "      <td>62.875</td>\n",
       "      <td>-3.093750</td>\n",
       "      <td>0.539062</td>\n",
       "      <td>[62.710792541503906]</td>\n",
       "      <td>[-3.0916614532470703]</td>\n",
       "      <td>[0.5397191047668457]</td>\n",
       "    </tr>\n",
       "    <tr>\n",
       "      <th>4</th>\n",
       "      <td>55.750</td>\n",
       "      <td>-0.399414</td>\n",
       "      <td>-0.337891</td>\n",
       "      <td>[55.389991760253906]</td>\n",
       "      <td>[-0.3995724022388458]</td>\n",
       "      <td>[-0.33725103735923767]</td>\n",
       "    </tr>\n",
       "    <tr>\n",
       "      <th>...</th>\n",
       "      <td>...</td>\n",
       "      <td>...</td>\n",
       "      <td>...</td>\n",
       "      <td>...</td>\n",
       "      <td>...</td>\n",
       "      <td>...</td>\n",
       "    </tr>\n",
       "    <tr>\n",
       "      <th>16917</th>\n",
       "      <td>54.000</td>\n",
       "      <td>-2.804688</td>\n",
       "      <td>-0.527344</td>\n",
       "      <td>[54.524139404296875]</td>\n",
       "      <td>[-2.8026223182678223]</td>\n",
       "      <td>[-0.5278573036193848]</td>\n",
       "    </tr>\n",
       "    <tr>\n",
       "      <th>16918</th>\n",
       "      <td>156.000</td>\n",
       "      <td>0.465820</td>\n",
       "      <td>-0.196289</td>\n",
       "      <td>[161.21376037597656]</td>\n",
       "      <td>[0.4659263789653778]</td>\n",
       "      <td>[-0.1967160403728485]</td>\n",
       "    </tr>\n",
       "    <tr>\n",
       "      <th>16919</th>\n",
       "      <td>65.000</td>\n",
       "      <td>-1.257812</td>\n",
       "      <td>0.529297</td>\n",
       "      <td>[65.28115844726562]</td>\n",
       "      <td>[-1.256664514541626]</td>\n",
       "      <td>[0.5292765498161316]</td>\n",
       "    </tr>\n",
       "    <tr>\n",
       "      <th>16920</th>\n",
       "      <td>127.000</td>\n",
       "      <td>1.015625</td>\n",
       "      <td>-0.287109</td>\n",
       "      <td>[126.67811584472656]</td>\n",
       "      <td>[1.015766978263855]</td>\n",
       "      <td>[-0.28693997859954834]</td>\n",
       "    </tr>\n",
       "    <tr>\n",
       "      <th>16921</th>\n",
       "      <td>61.250</td>\n",
       "      <td>0.783203</td>\n",
       "      <td>0.923828</td>\n",
       "      <td>[61.016822814941406]</td>\n",
       "      <td>[0.7829639911651611]</td>\n",
       "      <td>[0.9243465662002563]</td>\n",
       "    </tr>\n",
       "  </tbody>\n",
       "</table>\n",
       "<p>16922 rows × 6 columns</p>\n",
       "</div>"
      ],
      "text/plain": [
       "       D0GenPT  D0GenPhi  D0GenEta          goodMeson_pt   \n",
       "0       61.625 -0.145508 -1.500000    [61.5971565246582]  \\\n",
       "1      215.000 -3.000000 -0.278320  [213.74256896972656]   \n",
       "2       61.875  1.957031 -1.593750  [61.060001373291016]   \n",
       "3       62.875 -3.093750  0.539062  [62.710792541503906]   \n",
       "4       55.750 -0.399414 -0.337891  [55.389991760253906]   \n",
       "...        ...       ...       ...                   ...   \n",
       "16917   54.000 -2.804688 -0.527344  [54.524139404296875]   \n",
       "16918  156.000  0.465820 -0.196289  [161.21376037597656]   \n",
       "16919   65.000 -1.257812  0.529297   [65.28115844726562]   \n",
       "16920  127.000  1.015625 -0.287109  [126.67811584472656]   \n",
       "16921   61.250  0.783203  0.923828  [61.016822814941406]   \n",
       "\n",
       "               goodMeson_phi           goodMeson_eta  \n",
       "0      [-0.1455514281988144]    [-1.498134732246399]  \n",
       "1      [-2.9967997074127197]   [-0.2780139446258545]  \n",
       "2       [1.9556885957717896]   [-1.5929715633392334]  \n",
       "3      [-3.0916614532470703]    [0.5397191047668457]  \n",
       "4      [-0.3995724022388458]  [-0.33725103735923767]  \n",
       "...                      ...                     ...  \n",
       "16917  [-2.8026223182678223]   [-0.5278573036193848]  \n",
       "16918   [0.4659263789653778]   [-0.1967160403728485]  \n",
       "16919   [-1.256664514541626]    [0.5292765498161316]  \n",
       "16920    [1.015766978263855]  [-0.28693997859954834]  \n",
       "16921   [0.7829639911651611]    [0.9243465662002563]  \n",
       "\n",
       "[16922 rows x 6 columns]"
      ]
     },
     "metadata": {},
     "output_type": "display_data"
    }
   ],
   "source": [
    "dfnew = df.Filter(\"size  == 1\")\n",
    "\n",
    "cols = [\"D0GenPT\", \"D0GenPhi\", \"D0GenEta\", \"goodMeson_pt\", \"goodMeson_phi\", \"goodMeson_eta\"]\n",
    "\n",
    "x = dfnew.AsNumpy(columns=cols)\n",
    "\n",
    "#print(df.AsNumpy(columns=cols)[\"mc\"][0])\n",
    "\n",
    "pddf = pd.DataFrame(x)\n",
    "\n",
    "display(pddf)\n",
    "#print(set(pddf[\"mc\"]))"
   ]
  },
  {
   "cell_type": "code",
   "execution_count": 27,
   "id": "f03323f0-4604-41d1-98c1-6dfe5d726f02",
   "metadata": {},
   "outputs": [
    {
     "name": "stdout",
     "output_type": "stream",
     "text": [
      "[ 61.625 215.     61.875 ...  65.    127.     61.25 ] 16922\n",
      "[ 61.59715652 213.74256897  61.06000137 ...  65.28115845 126.67811584\n",
      "  61.01682281] 16922\n"
     ]
    }
   ],
   "source": [
    "ptgen = np.array([x for x in pddf[\"D0GenPT\"].tolist()])\n",
    "ptreco = np.array([x[0] for x in pddf[\"goodMeson_pt\"].tolist()])\n",
    "print(ptgen, len(ptgen))\n",
    "print(ptreco, len(ptreco))"
   ]
  },
  {
   "cell_type": "code",
   "execution_count": 28,
   "id": "48d8bc02-8881-44bc-aa26-f68f74972feb",
   "metadata": {},
   "outputs": [
    {
     "data": {
      "image/png": "[encoded data removed]",
      "text/plain": [
       "<Figure size 640x480 with 1 Axes>"
      ]
     },
     "metadata": {},
     "output_type": "display_data"
    },
    {
     "name": "stdout",
     "output_type": "stream",
     "text": [
      "0.04122028298981575 2.0727763221032767\n"
     ]
    }
   ],
   "source": [
    "plt.scatter(ptgen, (ptreco-ptgen)/ptgen, s=2, color = \"#000088\")\n",
    "plt.title(\"Difference in D0 PT (reco-gen)/gen\")\n",
    "plt.xlabel(\"D0 PT gen level [GeV]\")\n",
    "plt.ylabel(\"D0 PT difference (reco-gen)/gen\")\n",
    "plt.grid()\n",
    "plt.show()\n",
    "print(np.mean(ptreco-ptgen), np.std(ptreco-ptgen))"
   ]
  },
  {
   "cell_type": "code",
   "execution_count": null,
   "id": "e6c16882-002e-43ad-b296-589471823a0c",
   "metadata": {},
   "outputs": [],
   "source": []
  }
 ],
 "metadata": {
  "kernelspec": {
   "display_name": "myenv",
   "language": "python",
   "name": "myenv"
  },
  "language_info": {
   "codemirror_mode": {
    "name": "ipython",
    "version": 3
   },
   "file_extension": ".py",
   "mimetype": "text/x-python",
   "name": "python",
   "nbconvert_exporter": "python",
   "pygments_lexer": "ipython3",
   "version": "3.11.3"
  }
 },
 "nbformat": 4,
 "nbformat_minor": 5
}
