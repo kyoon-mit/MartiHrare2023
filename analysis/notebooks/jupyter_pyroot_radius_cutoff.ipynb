{
 "cells": [
  {
   "cell_type": "code",
   "execution_count": 43,
   "id": "c2c4649d-2470-4889-ba0f-8a71edb1b736",
   "metadata": {},
   "outputs": [
    {
     "name": "stderr",
     "output_type": "stream",
     "text": [
      "Info in <ACLiC>: unmodified script has already been compiled and loaded\n"
     ]
    }
   ],
   "source": [
    "import ROOT\n",
    "import numpy as np\n",
    "import pandas as pd\n",
    "import matplotlib.pyplot as plt\n",
    "from collections import Counter\n",
    "import tqdm\n",
    "ROOT.ROOT.EnableImplicitMT()\n",
    "\n",
    "if \"/home/submit/pdmonte/CMSSW_10_6_27/src/Hrare2023/analysis/func_marti.so\" not in ROOT.gSystem.GetLibraries():\n",
    "    ROOT.gSystem.CompileMacro(\"/home/submit/pdmonte/CMSSW_10_6_27/src/Hrare2023/analysis/func_marti.cc\",\"k\")"
   ]
  },
  {
   "cell_type": "code",
   "execution_count": 80,
   "id": "3e3a260c-1595-424a-bb19-154330a153d2",
   "metadata": {},
   "outputs": [],
   "source": [
    "date = \"MAY31\"\n",
    "\n",
    "chainSGN = ROOT.TChain(\"events\")\n",
    "#chainSGN.Add(\"/home/submit/pdmonte/CMSSW_10_6_27/src/Hrare2023/analysis/outputs/{0}/2018/outname_mc1040_GFcat_Phi3Cat_2018.root\".format(date))\n",
    "chainSGN.Add(\"/home/submit/pdmonte/CMSSW_10_6_27/src/Hrare2023/analysis/outputs/{0}/2018/outname_mc1039_GFcat_D0StarCat_2018.root\".format(date))\n",
    "\n",
    "df = ROOT.RDataFrame(chainSGN)"
   ]
  },
  {
   "cell_type": "code",
   "execution_count": 81,
   "id": "b1fa8779-fc3c-4fe3-99d4-98bb0a4bc2b2",
   "metadata": {},
   "outputs": [
    {
     "name": "stdout",
     "output_type": "stream",
     "text": [
      "(radius < 3 && abs(goodMeson_bestVtx_Z) < 10)\n",
      "!(radius < 3 && abs(goodMeson_bestVtx_Z) < 10)\n"
     ]
    },
    {
     "name": "stderr",
     "output_type": "stream",
     "text": [
      "Warning in <TCanvas::Constructor>: Deleting canvas with same name: canvas\n"
     ]
    },
    {
     "data": {
      "image/png": "[encoded data removed]",
      "text/plain": [
       "<IPython.core.display.Image object>"
      ]
     },
     "metadata": {},
     "output_type": "display_data"
    }
   ],
   "source": [
    "canvas = ROOT.TCanvas(\"canvas\", \"canvas\", 1200, 800)\n",
    "\n",
    "canvas.Divide(1, 3)\n",
    "\n",
    "bins, xlow, xhigh = 50, 0, 200\n",
    "\n",
    "filt = \"(radius < 3 && abs(goodMeson_bestVtx_Z) < 10)\"\n",
    "nofilt = \"!\" + filt\n",
    "\n",
    "print(filt)\n",
    "print(nofilt)\n",
    "\n",
    "#Kinematic Mass\n",
    "hgood=df.Define(\"scale\", \"w*lumiIntegrated\")\\\n",
    "    .Define(\"radius\", \"sqrt(goodMeson_bestVtx_X*goodMeson_bestVtx_X+goodMeson_bestVtx_Y*goodMeson_bestVtx_Y)\")\\\n",
    "    .Define(\"filter\", filt)\\\n",
    "    .Filter(\"filter[0]>0\")\\\n",
    "    .Histo1D((\"hist\", \"#phi kinematic mass\", bins, xlow, xhigh),\"HCandMass\")\n",
    "hbad=df.Define(\"scale\", \"w*lumiIntegrated\")\\\n",
    "    .Define(\"radius\", \"sqrt(goodMeson_bestVtx_X*goodMeson_bestVtx_X+goodMeson_bestVtx_Y*goodMeson_bestVtx_Y)\")\\\n",
    "    .Define(\"filter\", nofilt)\\\n",
    "    .Filter(\"filter[0]>0\")\\\n",
    "    .Histo1D((\"hist\", \"#phi kinematic mass\", bins, xlow, xhigh),\"HCandMass\")\n",
    "\n",
    "hbad.SetFillColorAlpha(ROOT.kRed, 0.5)\n",
    "hbad.SetLineColor(ROOT.kBlack)\n",
    "hgood.SetFillColorAlpha(ROOT.kGreen, 0.5)\n",
    "hgood.SetLineColor(ROOT.kBlack)\n",
    "\n",
    "hbad.Scale(1/hbad.GetEntries())\n",
    "hgood.Scale(1/hgood.GetEntries())\n",
    "\n",
    "\n",
    "stack = ROOT.THStack(\"stack\", \"H cand mass for phi, reconstruction\")\n",
    "stack.Add(hgood.GetValue())\n",
    "stack.Add(hbad.GetValue())\n",
    "stack.Draw(\"hist nostack\")\n",
    "#stack.GetXaxis().SetTitle(\"p_{T}_{2trk}^{#phi#rightarrow #pi#pi} [GeV]\")\n",
    "stack.GetYaxis().SetTitle(\"Frequency\")\n",
    "\n",
    "legend = ROOT.TLegend(0.15, 0.65, 0.3, 0.89)\n",
    "legend.SetMargin(0.17)\n",
    "legend.SetBorderSize(0)\n",
    "legend.SetTextSize(0.04)\n",
    "legend.AddEntry(hbad.GetValue(), \"#splitline{{Rejected (mean: {:.1f} GeV)}}{{# entries: {:.0f}}}\".format(round(hbad.GetMean(), 1), round(hbad.GetEntries(), 0)), \"f\")\n",
    "legend.AddEntry(hgood.GetValue(), \"#splitline{{Accepted (mean: {:.1f} GeV)}}{{# entries: {:.0f}}}\".format(round(hgood.GetMean(), 1), round(hgood.GetEntries(), 0)), \"f\")\n",
    "legend.Draw()\n",
    "\n",
    "canvas.Draw()\n"
   ]
  },
  {
   "cell_type": "code",
   "execution_count": 65,
   "id": "6778abc3-d779-4271-95ce-df6dc1734e13",
   "metadata": {},
   "outputs": [
    {
     "data": {
      "text/html": [
       "<div>\n",
       "<style scoped>\n",
       "    .dataframe tbody tr th:only-of-type {\n",
       "        vertical-align: middle;\n",
       "    }\n",
       "\n",
       "    .dataframe tbody tr th {\n",
       "        vertical-align: top;\n",
       "    }\n",
       "\n",
       "    .dataframe thead th {\n",
       "        text-align: right;\n",
       "    }\n",
       "</style>\n",
       "<table border=\"1\" class=\"dataframe\">\n",
       "  <thead>\n",
       "    <tr style=\"text-align: right;\">\n",
       "      <th></th>\n",
       "      <th>goodMeson_charged_pt</th>\n",
       "      <th>size</th>\n",
       "      <th>goodMeson_vtx_prob</th>\n",
       "      <th>radius</th>\n",
       "      <th>HCandMass</th>\n",
       "    </tr>\n",
       "  </thead>\n",
       "  <tbody>\n",
       "    <tr>\n",
       "      <th>0</th>\n",
       "      <td>[27.749645233154297, 38.90623092651367]</td>\n",
       "      <td>2</td>\n",
       "      <td>[0.28252995014190674, 0.8037798404693604]</td>\n",
       "      <td>[15.513128280639648, 0.03399030864238739]</td>\n",
       "      <td>116.530022</td>\n",
       "    </tr>\n",
       "    <tr>\n",
       "      <th>1</th>\n",
       "      <td>[35.671287536621094, 37.223087310791016]</td>\n",
       "      <td>2</td>\n",
       "      <td>[0.2510957419872284, 0.9030369520187378]</td>\n",
       "      <td>[28.596908569335938, 0.08703272044658661]</td>\n",
       "      <td>1.311011</td>\n",
       "    </tr>\n",
       "    <tr>\n",
       "      <th>2</th>\n",
       "      <td>[35.719688415527344, 45.734352111816406]</td>\n",
       "      <td>2</td>\n",
       "      <td>[0.4690823256969452, 0.0014971088385209441]</td>\n",
       "      <td>[0.07583993673324585, 0.04585704207420349]</td>\n",
       "      <td>191.261398</td>\n",
       "    </tr>\n",
       "    <tr>\n",
       "      <th>3</th>\n",
       "      <td>[37.5802116394043, 143.471435546875]</td>\n",
       "      <td>2</td>\n",
       "      <td>[0.12167343497276306, 0.17014658451080322]</td>\n",
       "      <td>[0.24943998456001282, 0.08824355155229568]</td>\n",
       "      <td>122.526978</td>\n",
       "    </tr>\n",
       "    <tr>\n",
       "      <th>4</th>\n",
       "      <td>[30.987756729125977, 32.879764556884766]</td>\n",
       "      <td>2</td>\n",
       "      <td>[0.8933829069137573, 0.7504865527153015]</td>\n",
       "      <td>[7.713479995727539, 0.042245808988809586]</td>\n",
       "      <td>108.167809</td>\n",
       "    </tr>\n",
       "    <tr>\n",
       "      <th>5</th>\n",
       "      <td>[52.21836471557617, 59.82731628417969]</td>\n",
       "      <td>2</td>\n",
       "      <td>[0.1377420723438263, 0.9984897971153259]</td>\n",
       "      <td>[18.135650634765625, 0.04852532967925072]</td>\n",
       "      <td>123.539467</td>\n",
       "    </tr>\n",
       "    <tr>\n",
       "      <th>6</th>\n",
       "      <td>[60.51223373413086, 90.39034271240234]</td>\n",
       "      <td>2</td>\n",
       "      <td>[0.32656705379486084, 0.3624761998653412]</td>\n",
       "      <td>[0.029951177537441254, 0.057445842772722244]</td>\n",
       "      <td>317.784637</td>\n",
       "    </tr>\n",
       "    <tr>\n",
       "      <th>7</th>\n",
       "      <td>[44.719608306884766, 28.866662979125977]</td>\n",
       "      <td>2</td>\n",
       "      <td>[0.5503227710723877, 0.46946486830711365]</td>\n",
       "      <td>[12.96454906463623, 0.07416965067386627]</td>\n",
       "      <td>127.151436</td>\n",
       "    </tr>\n",
       "    <tr>\n",
       "      <th>8</th>\n",
       "      <td>[54.90004348754883, 60.341827392578125]</td>\n",
       "      <td>2</td>\n",
       "      <td>[0.08994290232658386, 0.06364721059799194]</td>\n",
       "      <td>[11.253768920898438, 0.10105942189693451]</td>\n",
       "      <td>110.509117</td>\n",
       "    </tr>\n",
       "    <tr>\n",
       "      <th>9</th>\n",
       "      <td>[34.9915771484375, 30.99136734008789]</td>\n",
       "      <td>2</td>\n",
       "      <td>[0.8971648812294006, 0.0656503438949585]</td>\n",
       "      <td>[44.73624801635742, 0.06776806712150574]</td>\n",
       "      <td>103.033409</td>\n",
       "    </tr>\n",
       "    <tr>\n",
       "      <th>10</th>\n",
       "      <td>[36.838863372802734, 28.39353370666504]</td>\n",
       "      <td>2</td>\n",
       "      <td>[0.9657291173934937, 0.8655907511711121]</td>\n",
       "      <td>[2.816042423248291, 2.700000286102295]</td>\n",
       "      <td>113.701500</td>\n",
       "    </tr>\n",
       "    <tr>\n",
       "      <th>11</th>\n",
       "      <td>[39.16908645629883, 24.33392906188965]</td>\n",
       "      <td>2</td>\n",
       "      <td>[0.9081926941871643, 0.37838906049728394]</td>\n",
       "      <td>[50.80563735961914, 0.05897127464413643]</td>\n",
       "      <td>128.999344</td>\n",
       "    </tr>\n",
       "    <tr>\n",
       "      <th>12</th>\n",
       "      <td>[23.260269165039062, 60.6526985168457]</td>\n",
       "      <td>2</td>\n",
       "      <td>[0.9881274700164795, 0.6865460276603699]</td>\n",
       "      <td>[4.536792755126953, 0.026551369577646255]</td>\n",
       "      <td>116.639015</td>\n",
       "    </tr>\n",
       "    <tr>\n",
       "      <th>13</th>\n",
       "      <td>[36.838783264160156, 37.90141677856445]</td>\n",
       "      <td>2</td>\n",
       "      <td>[0.6777745485305786, 0.0022959383204579353]</td>\n",
       "      <td>[0.08063582330942154, 0.06952986866235733]</td>\n",
       "      <td>116.496445</td>\n",
       "    </tr>\n",
       "  </tbody>\n",
       "</table>\n",
       "</div>"
      ],
      "text/plain": [
       "                        goodMeson_charged_pt  size   \n",
       "0    [27.749645233154297, 38.90623092651367]     2  \\\n",
       "1   [35.671287536621094, 37.223087310791016]     2   \n",
       "2   [35.719688415527344, 45.734352111816406]     2   \n",
       "3       [37.5802116394043, 143.471435546875]     2   \n",
       "4   [30.987756729125977, 32.879764556884766]     2   \n",
       "5     [52.21836471557617, 59.82731628417969]     2   \n",
       "6     [60.51223373413086, 90.39034271240234]     2   \n",
       "7   [44.719608306884766, 28.866662979125977]     2   \n",
       "8    [54.90004348754883, 60.341827392578125]     2   \n",
       "9      [34.9915771484375, 30.99136734008789]     2   \n",
       "10   [36.838863372802734, 28.39353370666504]     2   \n",
       "11    [39.16908645629883, 24.33392906188965]     2   \n",
       "12    [23.260269165039062, 60.6526985168457]     2   \n",
       "13   [36.838783264160156, 37.90141677856445]     2   \n",
       "\n",
       "                             goodMeson_vtx_prob   \n",
       "0     [0.28252995014190674, 0.8037798404693604]  \\\n",
       "1      [0.2510957419872284, 0.9030369520187378]   \n",
       "2   [0.4690823256969452, 0.0014971088385209441]   \n",
       "3    [0.12167343497276306, 0.17014658451080322]   \n",
       "4      [0.8933829069137573, 0.7504865527153015]   \n",
       "5      [0.1377420723438263, 0.9984897971153259]   \n",
       "6     [0.32656705379486084, 0.3624761998653412]   \n",
       "7     [0.5503227710723877, 0.46946486830711365]   \n",
       "8    [0.08994290232658386, 0.06364721059799194]   \n",
       "9      [0.8971648812294006, 0.0656503438949585]   \n",
       "10     [0.9657291173934937, 0.8655907511711121]   \n",
       "11    [0.9081926941871643, 0.37838906049728394]   \n",
       "12     [0.9881274700164795, 0.6865460276603699]   \n",
       "13  [0.6777745485305786, 0.0022959383204579353]   \n",
       "\n",
       "                                          radius   HCandMass  \n",
       "0      [15.513128280639648, 0.03399030864238739]  116.530022  \n",
       "1      [28.596908569335938, 0.08703272044658661]    1.311011  \n",
       "2     [0.07583993673324585, 0.04585704207420349]  191.261398  \n",
       "3     [0.24943998456001282, 0.08824355155229568]  122.526978  \n",
       "4      [7.713479995727539, 0.042245808988809586]  108.167809  \n",
       "5      [18.135650634765625, 0.04852532967925072]  123.539467  \n",
       "6   [0.029951177537441254, 0.057445842772722244]  317.784637  \n",
       "7       [12.96454906463623, 0.07416965067386627]  127.151436  \n",
       "8      [11.253768920898438, 0.10105942189693451]  110.509117  \n",
       "9       [44.73624801635742, 0.06776806712150574]  103.033409  \n",
       "10        [2.816042423248291, 2.700000286102295]  113.701500  \n",
       "11      [50.80563735961914, 0.05897127464413643]  128.999344  \n",
       "12     [4.536792755126953, 0.026551369577646255]  116.639015  \n",
       "13    [0.08063582330942154, 0.06952986866235733]  116.496445  "
      ]
     },
     "metadata": {},
     "output_type": "display_data"
    }
   ],
   "source": [
    "dfnew = df.Define(\"size\", \"goodMeson_charged_mass.size()\").Filter(\"size  == 2\").Define(\"radius\", \"sqrt(goodMeson_bestVtx_X*goodMeson_bestVtx_X+goodMeson_bestVtx_Y*goodMeson_bestVtx_Y)\")\n",
    "\n",
    "cols = [\"goodMeson_charged_pt\", \"size\", \"goodMeson_vtx_prob\", \"radius\", \"HCandMass\"]\n",
    "\n",
    "x = dfnew.AsNumpy(columns=cols)\n",
    "\n",
    "#print(df.AsNumpy(columns=cols)[\"mc\"][0])\n",
    "\n",
    "pddf = pd.DataFrame(x)\n",
    "\n",
    "display(pddf)\n",
    "#print(set(pddf[\"mc\"]))"
   ]
  },
  {
   "cell_type": "code",
   "execution_count": 8,
   "id": "dd9a963f-b207-4e31-9113-ca5b84f0a9be",
   "metadata": {},
   "outputs": [
    {
     "ename": "runtime_error",
     "evalue": "Template method resolution failed:\n  ROOT::RDF::RInterface<ROOT::Detail::RDF::RLoopManager,void> ROOT::RDF::RInterface<ROOT::Detail::RDF::RLoopManager,void>::Define(basic_string_view<char,char_traits<char> > name, basic_string_view<char,char_traits<char> > expression) =>\n    runtime_error: RDataFrame::Define: cannot define column \"lead\". A column with that name has already been Define'd. Use Redefine to force redefinition.\n  ROOT::RDF::RInterface<ROOT::Detail::RDF::RLoopManager,void> ROOT::RDF::RInterface<ROOT::Detail::RDF::RLoopManager,void>::Define(basic_string_view<char,char_traits<char> > name, basic_string_view<char,char_traits<char> > expression) =>\n    runtime_error: RDataFrame::Define: cannot define column \"lead\". A column with that name has already been Define'd. Use Redefine to force redefinition.",
     "output_type": "error",
     "traceback": [
      "\u001b[0;31m---------------------------------------------------------------------------\u001b[0m",
      "\u001b[0;31mruntime_error\u001b[0m                             Traceback (most recent call last)",
      "Cell \u001b[0;32mIn[8], line 4\u001b[0m\n\u001b[1;32m      1\u001b[0m new \u001b[38;5;241m=\u001b[39m \u001b[43mdf\u001b[49m\u001b[38;5;241;43m.\u001b[39;49m\u001b[43mDefine\u001b[49m\u001b[43m(\u001b[49m\u001b[38;5;124;43m\"\u001b[39;49m\u001b[38;5;124;43mmass_size\u001b[39;49m\u001b[38;5;124;43m\"\u001b[39;49m\u001b[43m,\u001b[49m\u001b[43m \u001b[49m\u001b[38;5;124;43m\"\u001b[39;49m\u001b[38;5;124;43mgoodMeson_pt.size()\u001b[39;49m\u001b[38;5;124;43m\"\u001b[39;49m\u001b[43m)\u001b[49m\u001b[43m\\\u001b[49m\n\u001b[1;32m      2\u001b[0m \u001b[43m    \u001b[49m\u001b[38;5;241;43m.\u001b[39;49m\u001b[43mDefine\u001b[49m\u001b[43m(\u001b[49m\u001b[38;5;124;43m\"\u001b[39;49m\u001b[38;5;124;43mgoodMeson_vtx_prob_std\u001b[39;49m\u001b[38;5;124;43m\"\u001b[39;49m\u001b[43m,\u001b[49m\u001b[43m \u001b[49m\u001b[38;5;124;43m\"\u001b[39;49m\u001b[38;5;124;43mStdDev(goodMeson_vtx_prob)\u001b[39;49m\u001b[38;5;124;43m\"\u001b[39;49m\u001b[43m)\u001b[49m\u001b[43m\\\u001b[49m\n\u001b[1;32m      3\u001b[0m \u001b[43m    \u001b[49m\u001b[38;5;241;43m.\u001b[39;49m\u001b[43mDefine\u001b[49m\u001b[43m(\u001b[49m\u001b[38;5;124;43m\"\u001b[39;49m\u001b[38;5;124;43mgoodMeson_vtx_chi2dof_std\u001b[39;49m\u001b[38;5;124;43m\"\u001b[39;49m\u001b[43m,\u001b[49m\u001b[43m \u001b[49m\u001b[38;5;124;43m\"\u001b[39;49m\u001b[38;5;124;43mStdDev(goodMeson_vtx_chi2dof)\u001b[39;49m\u001b[38;5;124;43m\"\u001b[39;49m\u001b[43m)\u001b[49m\u001b[43m\\\u001b[49m\n\u001b[0;32m----> 4\u001b[0m \u001b[43m    \u001b[49m\u001b[38;5;241;43m.\u001b[39;49m\u001b[43mDefine\u001b[49m\u001b[43m(\u001b[49m\u001b[38;5;124;43m\"\u001b[39;49m\u001b[38;5;124;43mlead\u001b[39;49m\u001b[38;5;124;43m\"\u001b[39;49m\u001b[43m,\u001b[49m\u001b[43m \u001b[49m\u001b[38;5;124;43m\"\u001b[39;49m\u001b[38;5;124;43mgetMaximum(goodMeson_trk1_pt, goodMeson_trk2_pt)>20\u001b[39;49m\u001b[38;5;124;43m\"\u001b[39;49m\u001b[43m)\u001b[49m\\\n\u001b[1;32m      5\u001b[0m     \u001b[38;5;241m.\u001b[39mDefine(\u001b[38;5;124m\"\u001b[39m\u001b[38;5;124mleadval\u001b[39m\u001b[38;5;124m\"\u001b[39m, \u001b[38;5;124m\"\u001b[39m\u001b[38;5;124mgetMaximum(goodMeson_trk1_pt, goodMeson_trk2_pt)\u001b[39m\u001b[38;5;124m\"\u001b[39m)\\\n\u001b[1;32m      6\u001b[0m     \u001b[38;5;241m.\u001b[39mDefine(\u001b[38;5;124m\"\u001b[39m\u001b[38;5;124mleadsum\u001b[39m\u001b[38;5;124m\"\u001b[39m, \u001b[38;5;124m\"\u001b[39m\u001b[38;5;124mSum(lead)\u001b[39m\u001b[38;5;124m\"\u001b[39m)\\\n\u001b[1;32m      7\u001b[0m     \u001b[38;5;241m.\u001b[39mDefine(\u001b[38;5;124m\"\u001b[39m\u001b[38;5;124mleadfiltered\u001b[39m\u001b[38;5;124m\"\u001b[39m, \u001b[38;5;124m\"\u001b[39m\u001b[38;5;124mleadval[lead]\u001b[39m\u001b[38;5;124m\"\u001b[39m)\n\u001b[1;32m      9\u001b[0m cols \u001b[38;5;241m=\u001b[39m [\u001b[38;5;124m\"\u001b[39m\u001b[38;5;124mmass_size\u001b[39m\u001b[38;5;124m\"\u001b[39m, \u001b[38;5;124m\"\u001b[39m\u001b[38;5;124mlead\u001b[39m\u001b[38;5;124m\"\u001b[39m, \u001b[38;5;124m\"\u001b[39m\u001b[38;5;124mleadval\u001b[39m\u001b[38;5;124m\"\u001b[39m, \u001b[38;5;124m\"\u001b[39m\u001b[38;5;124mleadsum\u001b[39m\u001b[38;5;124m\"\u001b[39m, \u001b[38;5;124m\"\u001b[39m\u001b[38;5;124mleadfiltered\u001b[39m\u001b[38;5;124m\"\u001b[39m]\n\u001b[1;32m     11\u001b[0m x \u001b[38;5;241m=\u001b[39m new\u001b[38;5;241m.\u001b[39mAsNumpy(columns\u001b[38;5;241m=\u001b[39mcols)\n",
      "File \u001b[0;32m/work/submit/pdmonte/miniforge3/envs/myenv/lib/python3.11/site-packages/ROOT/_pythonization/_rdf_pyz.py:372\u001b[0m, in \u001b[0;36m_PyDefine\u001b[0;34m(rdf, col_name, callable_or_str, cols, extra_args)\u001b[0m\n\u001b[1;32m    369\u001b[0m     \u001b[38;5;28;01mraise\u001b[39;00m \u001b[38;5;167;01mTypeError\u001b[39;00m(\u001b[38;5;124mf\u001b[39m\u001b[38;5;124m\"\u001b[39m\u001b[38;5;124mFirst argument of Define must be a valid string for the new column name. \u001b[39m\u001b[38;5;132;01m{\u001b[39;00m\u001b[38;5;28mtype\u001b[39m(col_name)\u001b[38;5;241m.\u001b[39m\u001b[38;5;18m__name__\u001b[39m\u001b[38;5;132;01m}\u001b[39;00m\u001b[38;5;124m is not a string.\u001b[39m\u001b[38;5;124m\"\u001b[39m)\n\u001b[1;32m    371\u001b[0m \u001b[38;5;28;01mif\u001b[39;00m \u001b[38;5;28misinstance\u001b[39m(callable_or_str, \u001b[38;5;28mstr\u001b[39m): \u001b[38;5;66;03m# If string argument is passed. Invoke the Original Define.\u001b[39;00m\n\u001b[0;32m--> 372\u001b[0m     \u001b[38;5;28;01mreturn\u001b[39;00m \u001b[43mrdf\u001b[49m\u001b[38;5;241;43m.\u001b[39;49m\u001b[43m_OriginalDefine\u001b[49m\u001b[43m(\u001b[49m\u001b[43mcol_name\u001b[49m\u001b[43m,\u001b[49m\u001b[43m \u001b[49m\u001b[43mcallable_or_str\u001b[49m\u001b[43m)\u001b[49m\n\u001b[1;32m    374\u001b[0m \u001b[38;5;28;01mif\u001b[39;00m \u001b[38;5;129;01mnot\u001b[39;00m \u001b[38;5;28mcallable\u001b[39m(callable_or_str): \u001b[38;5;66;03m# The 2st argument is either a string or a python callable.\u001b[39;00m\n\u001b[1;32m    375\u001b[0m     \u001b[38;5;28;01mraise\u001b[39;00m \u001b[38;5;167;01mTypeError\u001b[39;00m(\u001b[38;5;124mf\u001b[39m\u001b[38;5;124m\"\u001b[39m\u001b[38;5;124mThe second argument of a Define operation should be a callable. \u001b[39m\u001b[38;5;132;01m{\u001b[39;00m\u001b[38;5;28mtype\u001b[39m(callable_or_str)\u001b[38;5;241m.\u001b[39m\u001b[38;5;18m__name__\u001b[39m\u001b[38;5;132;01m}\u001b[39;00m\u001b[38;5;124m object is not callable.\u001b[39m\u001b[38;5;124m\"\u001b[39m)\n",
      "\u001b[0;31mruntime_error\u001b[0m: Template method resolution failed:\n  ROOT::RDF::RInterface<ROOT::Detail::RDF::RLoopManager,void> ROOT::RDF::RInterface<ROOT::Detail::RDF::RLoopManager,void>::Define(basic_string_view<char,char_traits<char> > name, basic_string_view<char,char_traits<char> > expression) =>\n    runtime_error: RDataFrame::Define: cannot define column \"lead\". A column with that name has already been Define'd. Use Redefine to force redefinition.\n  ROOT::RDF::RInterface<ROOT::Detail::RDF::RLoopManager,void> ROOT::RDF::RInterface<ROOT::Detail::RDF::RLoopManager,void>::Define(basic_string_view<char,char_traits<char> > name, basic_string_view<char,char_traits<char> > expression) =>\n    runtime_error: RDataFrame::Define: cannot define column \"lead\". A column with that name has already been Define'd. Use Redefine to force redefinition."
     ]
    }
   ],
   "source": [
    "\n",
    "cols = [\"mass_size\", \"lead\", \"leadval\", \"leadsum\", \"leadfiltered\"]\n",
    "\n",
    "x = new.AsNumpy(columns=cols)\n",
    "\n",
    "pddf = pd.DataFrame(x)\n",
    "\n",
    "display(pddf)\n",
    "\n",
    "display(pddf[pddf[\"mass_size\"] > 1])\n",
    "#display(pddf[(pddf[\"goodMeson_vtx_prob_std\"].notnull()) & (pddf[\"goodMeson_vtx_chi2dof_std\"].notnull())])\n",
    "#pddf = pddf[(pddf[\"goodMeson_vtx_prob_std\"].notnull()) & (pddf[\"goodMeson_vtx_chi2dof_std\"].notnull()) & (pddf[\"mass_size\"] > 1)]\n",
    "pddf = pddf[(pddf[\"mass_size\"] > 1)]\n",
    "display(pddf[pddf[\"leadsum\"] < 2])\n",
    "\n",
    "for c in cols:\n",
    "    num = np.asarray(pddf[c])\n",
    "    print(num, np.sum(num), np.count_nonzero(np.isnan(num)))\n",
    "    counts, bins = np.histogram(num)\n",
    "    plt.title(c)\n",
    "    plt.bar(bins[:-1], counts, width=np.diff(bins), align=\"edge\")\n",
    "    plt.show()\n",
    "    print(\"min:\", np.min(num), \"max:\", np.max(num), \"avg:\", np.average(num))\n",
    "    for el in sorted(Counter(num).items(), key=lambda pair: pair[0]):\n",
    "        print(el)"
   ]
  },
  {
   "cell_type": "code",
   "execution_count": 4,
   "id": "9769dd42-af89-4d94-92aa-ef289e1d6141",
   "metadata": {},
   "outputs": [],
   "source": [
    "#pddf[\"size\"] = pddf.apply(lambda row: len(row[\"Pi0PhiGenPT\"])*len(row[\"PionGenDR\"]), axis=1)\n",
    "\n",
    "#pddf[\"Pi0PhiGenPT\"] = pddf[\"Pi0PhiGenPT\"].apply(lambda vec: vec[0])\n",
    "#pddf[\"PionGenDR\"] = pddf[\"PionGenDR\"].apply(lambda vec: vec[0])\n",
    "#pddf = pddf[(pddf['size'] > 0)]\n",
    "\n",
    "pt = np.asarray(pddf[(pddf['PionGenDR'] > 0.2)][\"Pi0PhiGenPT\"])\n",
    "dr = np.asarray(pddf[(pddf['PionGenDR'] > 0.2)][\"PionGenDR\"])\n",
    "\n",
    "pt = np.asarray(pddf[\"Pi0PhiGenPT\"])\n",
    "dr = np.asarray(pddf[\"PionGenDR\"])"
   ]
  },
  {
   "cell_type": "code",
   "execution_count": 6,
   "id": "50f7bee8-a69b-4b1d-ba86-09b8669bd572",
   "metadata": {},
   "outputs": [
    {
     "data": {
      "image/png": "[encoded data removed]",
      "text/plain": [
       "<Figure size 640x480 with 1 Axes>"
      ]
     },
     "metadata": {},
     "output_type": "display_data"
    },
    {
     "data": {
      "image/png": "[encoded data removed]",
      "text/plain": [
       "<Figure size 640x480 with 1 Axes>"
      ]
     },
     "metadata": {},
     "output_type": "display_data"
    },
    {
     "data": {
      "image/png": "[encoded data removed]",
      "text/plain": [
       "<Figure size 640x480 with 1 Axes>"
      ]
     },
     "metadata": {},
     "output_type": "display_data"
    },
    {
     "name": "stdout",
     "output_type": "stream",
     "text": [
      "0.12334103882312775\n"
     ]
    }
   ],
   "source": [
    "counts, bins = np.histogram(pt, bins=35, range=(0,100))\n",
    "plt.bar(bins[:-1], counts, width=np.diff(bins), align=\"edge\")\n",
    "plt.show()\n",
    "\n",
    "counts, bins = np.histogram(dr, bins=50, range=(0,10))\n",
    "plt.bar(bins[:-1], counts, width=np.diff(bins), align=\"edge\")\n",
    "plt.show()\n",
    "\n",
    "plt.scatter(dr, pt, s=1)\n",
    "plt.show()\n",
    "\n",
    "print(np.max(dr))"
   ]
  },
  {
   "cell_type": "code",
   "execution_count": null,
   "id": "e6c16882-002e-43ad-b296-589471823a0c",
   "metadata": {},
   "outputs": [],
   "source": []
  }
 ],
 "metadata": {
  "kernelspec": {
   "display_name": "myenv",
   "language": "python",
   "name": "myenv"
  },
  "language_info": {
   "codemirror_mode": {
    "name": "ipython",
    "version": 3
   },
   "file_extension": ".py",
   "mimetype": "text/x-python",
   "name": "python",
   "nbconvert_exporter": "python",
   "pygments_lexer": "ipython3",
   "version": "3.11.3"
  }
 },
 "nbformat": 4,
 "nbformat_minor": 5
}
