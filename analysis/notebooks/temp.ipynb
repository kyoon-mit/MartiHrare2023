{
 "cells": [
  {
   "cell_type": "code",
   "execution_count": 1,
   "id": "7ff9d5a1-c2a9-4d31-b64d-c98c5553c099",
   "metadata": {},
   "outputs": [
    {
     "name": "stdout",
     "output_type": "stream",
     "text": [
      "Welcome to JupyROOT 6.28/00\n"
     ]
    }
   ],
   "source": [
    "import ROOT\n",
    "import numpy as np\n",
    "import pandas as pd\n",
    "import matplotlib.pyplot as plt\n",
    "ROOT.ROOT.EnableImplicitMT()\n",
    "\n",
    "if \"/home/submit/pdmonte/CMSSW_10_6_27/src/Hrare2023/analysis/func_marti.so\" not in ROOT.gSystem.GetLibraries():\n",
    "    ROOT.gSystem.CompileMacro(\"/home/submit/pdmonte/CMSSW_10_6_27/src/Hrare2023/analysis/func_marti.cc\",\"k\")\n",
    "\n",
    "if \"/home/submit/pdmonte/CMSSW_10_6_27/src/Hrare2023/analysis/functions.so\" not in ROOT.gSystem.GetLibraries():\n",
    "    ROOT.gSystem.CompileMacro(\"/home/submit/pdmonte/CMSSW_10_6_27/src/Hrare2023/analysis/functions.cc\",\"k\")"
   ]
  },
  {
   "cell_type": "code",
   "execution_count": 6,
   "id": "332d6399-70f7-4e1f-b4bb-db3f56c78dae",
   "metadata": {},
   "outputs": [
    {
     "data": {
      "text/plain": [
       "1"
      ]
     },
     "execution_count": 6,
     "metadata": {},
     "output_type": "execute_result"
    }
   ],
   "source": [
    "date = \"JUN21\"\n",
    "\n",
    "chain = ROOT.TChain(\"events\")\n",
    "chain.Add(\"/data/submit/pdmonte/outputs/{0}/2018/outname_mc1041_GFcat_D0StarCat_2018.root\".format(date))"
   ]
  },
  {
   "cell_type": "code",
   "execution_count": 24,
   "id": "962e4256-2eac-4285-a473-230563a9a196",
   "metadata": {},
   "outputs": [],
   "source": [
    "df_SGN = ROOT.RDataFrame(chain)\n",
    "df_SGN = df_SGN.Define(\"scale\", \"w*lumiIntegrated\")\\\n",
    "            .Define(\"filter1\", \"abs(goodMeson_eta) > 1.4\")\\\n",
    "            .Define(\"filter2\", \"Vec_i {static_cast<int>(getPt(GenPart_pt, GenPart_pdgId, GenPart_genPartIdxMother, 22, 423, 25).size())}\")\\\n",
    "            .Define(\"filter3\", \"filter2 == 1\")"
   ]
  },
  {
   "cell_type": "code",
   "execution_count": 25,
   "id": "9859d74d-fd15-4c26-805c-01178edef4c6",
   "metadata": {},
   "outputs": [
    {
     "data": {
      "text/html": [
       "<div>\n",
       "<style scoped>\n",
       "    .dataframe tbody tr th:only-of-type {\n",
       "        vertical-align: middle;\n",
       "    }\n",
       "\n",
       "    .dataframe tbody tr th {\n",
       "        vertical-align: top;\n",
       "    }\n",
       "\n",
       "    .dataframe thead th {\n",
       "        text-align: right;\n",
       "    }\n",
       "</style>\n",
       "<table border=\"1\" class=\"dataframe\">\n",
       "  <thead>\n",
       "    <tr style=\"text-align: right;\">\n",
       "      <th></th>\n",
       "      <th>goodMeson_ditrk_pt</th>\n",
       "      <th>filter1</th>\n",
       "      <th>filter2</th>\n",
       "      <th>filter3</th>\n",
       "    </tr>\n",
       "  </thead>\n",
       "  <tbody>\n",
       "    <tr>\n",
       "      <th>0</th>\n",
       "      <td>[53.76828384399414]</td>\n",
       "      <td>[1]</td>\n",
       "      <td>[0]</td>\n",
       "      <td>[0]</td>\n",
       "    </tr>\n",
       "    <tr>\n",
       "      <th>1</th>\n",
       "      <td>[57.202308654785156]</td>\n",
       "      <td>[1]</td>\n",
       "      <td>[0]</td>\n",
       "      <td>[0]</td>\n",
       "    </tr>\n",
       "    <tr>\n",
       "      <th>2</th>\n",
       "      <td>[172.90272521972656]</td>\n",
       "      <td>[1]</td>\n",
       "      <td>[1]</td>\n",
       "      <td>[1]</td>\n",
       "    </tr>\n",
       "    <tr>\n",
       "      <th>3</th>\n",
       "      <td>[53.86904525756836]</td>\n",
       "      <td>[1]</td>\n",
       "      <td>[0]</td>\n",
       "      <td>[0]</td>\n",
       "    </tr>\n",
       "    <tr>\n",
       "      <th>4</th>\n",
       "      <td>[54.38526916503906]</td>\n",
       "      <td>[1]</td>\n",
       "      <td>[0]</td>\n",
       "      <td>[0]</td>\n",
       "    </tr>\n",
       "    <tr>\n",
       "      <th>...</th>\n",
       "      <td>...</td>\n",
       "      <td>...</td>\n",
       "      <td>...</td>\n",
       "      <td>...</td>\n",
       "    </tr>\n",
       "    <tr>\n",
       "      <th>47217</th>\n",
       "      <td>[47.53954315185547]</td>\n",
       "      <td>[1]</td>\n",
       "      <td>[0]</td>\n",
       "      <td>[0]</td>\n",
       "    </tr>\n",
       "    <tr>\n",
       "      <th>47218</th>\n",
       "      <td>[61.203582763671875]</td>\n",
       "      <td>[1]</td>\n",
       "      <td>[0]</td>\n",
       "      <td>[0]</td>\n",
       "    </tr>\n",
       "    <tr>\n",
       "      <th>47219</th>\n",
       "      <td>[65.57756805419922]</td>\n",
       "      <td>[0]</td>\n",
       "      <td>[1]</td>\n",
       "      <td>[1]</td>\n",
       "    </tr>\n",
       "    <tr>\n",
       "      <th>47220</th>\n",
       "      <td>[121.49837493896484]</td>\n",
       "      <td>[0]</td>\n",
       "      <td>[0]</td>\n",
       "      <td>[0]</td>\n",
       "    </tr>\n",
       "    <tr>\n",
       "      <th>47221</th>\n",
       "      <td>[53.40363693237305]</td>\n",
       "      <td>[1]</td>\n",
       "      <td>[0]</td>\n",
       "      <td>[0]</td>\n",
       "    </tr>\n",
       "  </tbody>\n",
       "</table>\n",
       "<p>47222 rows × 4 columns</p>\n",
       "</div>"
      ],
      "text/plain": [
       "         goodMeson_ditrk_pt filter1 filter2 filter3\n",
       "0       [53.76828384399414]     [1]     [0]     [0]\n",
       "1      [57.202308654785156]     [1]     [0]     [0]\n",
       "2      [172.90272521972656]     [1]     [1]     [1]\n",
       "3       [53.86904525756836]     [1]     [0]     [0]\n",
       "4       [54.38526916503906]     [1]     [0]     [0]\n",
       "...                     ...     ...     ...     ...\n",
       "47217   [47.53954315185547]     [1]     [0]     [0]\n",
       "47218  [61.203582763671875]     [1]     [0]     [0]\n",
       "47219   [65.57756805419922]     [0]     [1]     [1]\n",
       "47220  [121.49837493896484]     [0]     [0]     [0]\n",
       "47221   [53.40363693237305]     [1]     [0]     [0]\n",
       "\n",
       "[47222 rows x 4 columns]"
      ]
     },
     "metadata": {},
     "output_type": "display_data"
    },
    {
     "name": "stdout",
     "output_type": "stream",
     "text": [
      "<class cppyy.gbl.ROOT.VecOps.RVec<float> at 0x564b8da1f330>\n",
      "<class cppyy.gbl.ROOT.VecOps.RVec<int> at 0x564b8e47dee0>\n",
      "<class cppyy.gbl.ROOT.VecOps.RVec<int> at 0x564b8e47dee0>\n",
      "<class cppyy.gbl.ROOT.VecOps.RVec<int> at 0x564b8e47dee0>\n"
     ]
    }
   ],
   "source": [
    "cols = [\"goodMeson_ditrk_pt\", \"filter1\", \"filter2\", \"filter3\"]\n",
    "\n",
    "x = df_SGN.AsNumpy(columns=cols)\n",
    "\n",
    "pddf = pd.DataFrame(x)\n",
    "\n",
    "display(pddf)\n",
    "\n",
    "print(type(pddf.iloc[0][\"goodMeson_ditrk_pt\"]))\n",
    "print(type(pddf.iloc[0][\"filter1\"]))\n",
    "print(type(pddf.iloc[0][\"filter2\"]))\n",
    "print(type(pddf.iloc[0][\"filter3\"]))"
   ]
  },
  {
   "cell_type": "code",
   "execution_count": null,
   "id": "1348ee11-aa3f-40a0-85a9-87d756294c3c",
   "metadata": {},
   "outputs": [],
   "source": []
  }
 ],
 "metadata": {
  "kernelspec": {
   "display_name": "myenv",
   "language": "python",
   "name": "myenv"
  },
  "language_info": {
   "codemirror_mode": {
    "name": "ipython",
    "version": 3
   },
   "file_extension": ".py",
   "mimetype": "text/x-python",
   "name": "python",
   "nbconvert_exporter": "python",
   "pygments_lexer": "ipython3",
   "version": "3.11.3"
  }
 },
 "nbformat": 4,
 "nbformat_minor": 5
}
