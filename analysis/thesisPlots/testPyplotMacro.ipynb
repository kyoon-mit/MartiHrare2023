{
 "cells": [
  {
   "cell_type": "code",
   "execution_count": 38,
   "id": "794412ce-86bc-4143-b1b1-7c05999fec26",
   "metadata": {},
   "outputs": [],
   "source": [
    "import ROOT\n",
    "import pandas as pd\n",
    "import numpy as np\n",
    "import matplotlib.pyplot as plt\n",
    "import scipy.optimize as sc\n",
    "import mplhep as hep\n",
    "import math\n",
    "from array import array\n",
    "np.set_printoptions(suppress=True)"
   ]
  },
  {
   "cell_type": "code",
   "execution_count": 95,
   "id": "ad886fb1-d3a8-4cfc-a192-e18f53154829",
   "metadata": {},
   "outputs": [],
   "source": [
    "def readBSFFile(filename):\n",
    "    names, errors, shape, loss = [], [], [], []\n",
    "    with open(filename, 'r') as file:\n",
    "        for line in file:\n",
    "            parts = line.strip().split()\n",
    "            names.append(parts[0])\n",
    "            errors.append(float(parts[1]))\n",
    "            shape.append(float(parts[2]))\n",
    "            loss.append(float(parts[3]))\n",
    "    return names, errors, shape, loss"
   ]
  },
  {
   "cell_type": "code",
   "execution_count": 96,
   "id": "289fcd22-66b7-4df6-a23d-9e472e94a512",
   "metadata": {},
   "outputs": [],
   "source": [
    "def saveBSFPythonPlot():\n",
    "    filename = \"/home/submit/pdmonte/CMSSW_10_6_27/src/Hrare2023/analysis/TMVA_regression/evalPhi.out\"\n",
    "    imageName = \"/home/submit/pdmonte/public_html/thesisPlots/BSF_vs_RMSE_phi.png\"\n",
    "    names, errors, shapes, bsf = read_file(filename)\n",
    "    print(len(names), len(errors), len(shapes), len(bsf))\n",
    "    bsf = [l/10. if l > 60 else l for l in bsf]\n",
    "\n",
    "    bsfOther, bsfReco, bsfUsed, errorsOther, errorsReco, errorsUsed = [], [], [], [], [], []\n",
    "    for i, n in enumerate(names):\n",
    "        if n == \"RECO\":\n",
    "            bsfReco.append(bsf[i])\n",
    "            errorsReco.append(errors[i])\n",
    "        elif n == \"BDTG_df13_dl3620_v0_v1_opt13545\":\n",
    "            bsfUsed.append(bsf[i])\n",
    "            errorsUsed.append(errors[i])\n",
    "        else:\n",
    "            bsfOther.append(bsf[i])\n",
    "            errorsOther.append(errors[i])\n",
    "\n",
    "    cs = ROOT.TCanvas(\"canvas\", \"canvas\", 900, 900)\n",
    "    pad1 = ROOT.TPad(\"upper_pad\", \"\", 0., 0., 1., 1.)#xlow, ylow, xup, yup\n",
    "    pad1.Draw()\n",
    "    xlow, ylow, xup, yup = 0.60, 0.70, 0.87, 0.87\n",
    "    legend4 = ROOT.TLegend(xlow, ylow, xup, yup)\n",
    "    pad1.cd()# Draw onto main plot\n",
    "\n",
    "    mgr = ROOT.TMultiGraph()\n",
    "\n",
    "    grOther = ROOT.TGraph(len(errorsOther), array('d', errorsOther), array('d', bsfOther))\n",
    "    grOther.SetMarkerStyle(ROOT.kFullCircle)\n",
    "    grOther.SetMarkerSize(1)\n",
    "    grOther.SetMarkerColor(ROOT.kRed)\n",
    "    legend4.AddEntry(grOther, \"other\", \"p\")\n",
    "    mgr.Add(grOther)\n",
    "\n",
    "    grUsed = ROOT.TGraph(len(errorsUsed), array('d', errorsUsed), array('d', bsfUsed))\n",
    "    grUsed.SetMarkerStyle(ROOT.kFullCircle)\n",
    "    grUsed.SetMarkerSize(1)\n",
    "    grUsed.SetMarkerColor(ROOT.kBlue)\n",
    "    legend4.AddEntry(grUsed, \"Used\", \"p\")\n",
    "    mgr.Add(grUsed)\n",
    "\n",
    "    grReco = ROOT.TGraph(len(errorsReco), array('d', errorsReco), array('d', bsfReco))\n",
    "    grReco.SetMarkerStyle(ROOT.kFullCircle)\n",
    "    grReco.SetMarkerSize(1)\n",
    "    grReco.SetMarkerColor(ROOT.kGreen)\n",
    "    legend4.AddEntry(grReco, \"Reco\", \"p\")\n",
    "    mgr.Add(grReco)\n",
    "\n",
    "    mgr.Draw(\"ap\")\n",
    "\n",
    "    legend4.SetTextFont(42)\n",
    "    legend4.SetFillStyle(0)\n",
    "    legend4.SetBorderSize(0)\n",
    "    legend4.SetTextSize(0.035)\n",
    "    legend4.SetTextAlign(12)\n",
    "    legend4.Draw(\"same\")\n",
    "\n",
    "    cs.SaveAs(imageName)"
   ]
  },
  {
   "cell_type": "code",
   "execution_count": 97,
   "id": "cf7a7709-a60f-48da-a509-980c5b8a8fdf",
   "metadata": {},
   "outputs": [
    {
     "name": "stdout",
     "output_type": "stream",
     "text": [
      "1002 1002 1002 1002\n"
     ]
    },
    {
     "name": "stderr",
     "output_type": "stream",
     "text": [
      "Info in <TCanvas::Print>: png file /home/submit/pdmonte/public_html/thesisPlots/BSF_vs_RMSE_phi.png has been created\n"
     ]
    }
   ],
   "source": [
    "saveBSFPythonPlot()"
   ]
  },
  {
   "cell_type": "code",
   "execution_count": 1,
   "id": "9b337052",
   "metadata": {},
   "outputs": [
    {
     "name": "stdout",
     "output_type": "stream",
     "text": [
      "Welcome to JupyROOT 6.28/00\n"
     ]
    }
   ],
   "source": [
    "from drawMacro import *"
   ]
  },
  {
   "cell_type": "code",
   "execution_count": 2,
   "id": "d1987ee1",
   "metadata": {},
   "outputs": [
    {
     "name": "stdout",
     "output_type": "stream",
     "text": [
      "\u001b[1;33m[savePlot]~~~~~~~~~~~~~~~~~~~~~~~~~~~~~~~ Starting... ~~~~~~~~~~~~~~~~~~~~~~~~~~~~~\u001b[0m\n",
      "\u001b[1;33m[savePlot]~~~~~~~~~~~~~~~~~~~~~~~~~~~~~~~~~~ Done! ~~~~~~~~~~~~~~~~~~~~~~~~~~~~~~~~\u001b[0m\n",
      "\n"
     ]
    },
    {
     "name": "stderr",
     "output_type": "stream",
     "text": [
      "Info in <TCanvas::Print>: png file /home/submit/pdmonte/public_html/thesisPlots/BSF_vs_RMSE_phi.png has been created\n"
     ]
    }
   ],
   "source": [
    "saveBSFPythonPlot()"
   ]
  },
  {
   "cell_type": "code",
   "execution_count": null,
   "id": "254f3fbe",
   "metadata": {},
   "outputs": [],
   "source": []
  }
 ],
 "metadata": {
  "kernelspec": {
   "display_name": "Python 3",
   "language": "python",
   "name": "python3"
  },
  "language_info": {
   "codemirror_mode": {
    "name": "ipython",
    "version": 3
   },
   "file_extension": ".py",
   "mimetype": "text/x-python",
   "name": "python",
   "nbconvert_exporter": "python",
   "pygments_lexer": "ipython3",
   "version": "3.11.3"
  }
 },
 "nbformat": 4,
 "nbformat_minor": 5
}
