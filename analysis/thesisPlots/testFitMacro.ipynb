{
 "cells": [
  {
   "cell_type": "code",
   "execution_count": 1,
   "id": "21046231-0ece-4acd-af1f-4ff9d5a0a68b",
   "metadata": {},
   "outputs": [
    {
     "name": "stdout",
     "output_type": "stream",
     "text": [
      "Welcome to JupyROOT 6.28/00\n"
     ]
    }
   ],
   "source": [
    "import ROOT"
   ]
  },
  {
   "cell_type": "code",
   "execution_count": 86,
   "id": "181d46cf-7347-4afb-9bcc-baca18ca4ae9",
   "metadata": {},
   "outputs": [
    {
     "name": "stdout",
     "output_type": "stream",
     "text": [
      "<class cppyy.gbl.RooCurve at 0x55a037902170>\n"
     ]
    }
   ],
   "source": [
    "fileName = \"/data/submit/pdmonte/thesisFitRootFiles/HCandMassHist_Phi3_GF_2018_OCT27_BDTG_df13_dl3620_v0_v1_opt30000_MM_curve.root\"\n",
    "\n",
    "infile = ROOT.TFile.Open(fileName, \"read\")\n",
    "curve = infile.Get(\"curve\")\n",
    "print(type(curve))"
   ]
  },
  {
   "cell_type": "code",
   "execution_count": 87,
   "id": "886bc72c-3fec-4a61-aa98-8671cde19209",
   "metadata": {},
   "outputs": [
    {
     "name": "stderr",
     "output_type": "stream",
     "text": [
      "Warning in <TCanvas::Constructor>: Deleting canvas with same name: canvas\n",
      "Info in <TCanvas::Print>: png file /home/submit/pdmonte/public_html/thesisPlots/testFit.png has been created\n"
     ]
    }
   ],
   "source": [
    "imageName = \"/home/submit/pdmonte/public_html/thesisPlots/testFit.png\"\n",
    "cs = ROOT.TCanvas(\"canvas\", \"canvas\", 900, 900)\n",
    "pad1 = ROOT.TPad(\"upper_pad\", \"\", 0., 0., 1., 1.)#xlow, ylow, xup, yup\n",
    "pad1.Draw()\n",
    "xlow, ylow, xup, yup = 0.60, 0.70, 0.87, 0.87\n",
    "legend4 = ROOT.TLegend(xlow, ylow, xup, yup)\n",
    "pad1.cd()# Draw onto main plot\n",
    "curve.Draw(\"apl\")\n",
    "cs.SaveAs(imageName)"
   ]
  },
  {
   "cell_type": "code",
   "execution_count": 88,
   "id": "dd02a96f",
   "metadata": {},
   "outputs": [
    {
     "name": "stdout",
     "output_type": "stream",
     "text": [
      "<class cppyy.gbl.RooDataHist at 0x55a03087d7b0>\n",
      "<class cppyy.gbl.TH1F at 0x55a035943ca0>\n",
      "[#0] WARNING:DataHandling -- 'RooAbsData::createHistogram' is deprecated and will be removed in ROOT v6.30: Use the overload of 'RooAbsData::createHistogram' that takes RooFit command arguments.\n"
     ]
    }
   ],
   "source": [
    "fileName = \"/data/submit/pdmonte/thesisFitRootFiles/HCandMassHist_Phi3_GF_2018_OCT27_BDTG_df13_dl3620_v0_v1_opt30000_hist.root\"\n",
    "infile = ROOT.TFile.Open(fileName, \"read\")\n",
    "dataHist = infile.Get(\"hist\")\n",
    "print(type(dataHist))\n",
    "\n",
    "histo = dataHist.createHistogram('mmeson', 600)\n",
    "print(type(histo))"
   ]
  },
  {
   "cell_type": "code",
   "execution_count": 91,
   "id": "49c1d80b",
   "metadata": {},
   "outputs": [
    {
     "name": "stderr",
     "output_type": "stream",
     "text": [
      "Warning in <TCanvas::Constructor>: Deleting canvas with same name: canvas\n",
      "Info in <TCanvas::Print>: png file /home/submit/pdmonte/public_html/thesisPlots/testFit.png has been created\n"
     ]
    }
   ],
   "source": [
    "imageName = \"/home/submit/pdmonte/public_html/thesisPlots/testFit.png\"\n",
    "cs = ROOT.TCanvas(\"canvas\", \"canvas\", 900, 900)\n",
    "pad1 = ROOT.TPad(\"upper_pad\", \"\", 0., 0., 1., 1.)#xlow, ylow, xup, yup\n",
    "pad1.Draw()\n",
    "xlow, ylow, xup, yup = 0.60, 0.70, 0.87, 0.87\n",
    "legend4 = ROOT.TLegend(xlow, ylow, xup, yup)\n",
    "pad1.cd()# Draw onto main plot\n",
    "histo.Draw(\"e\")\n",
    "curve.Draw(\"l\")\n",
    "histo.GetXaxis().SetRangeUser(0.85, 1.1)\n",
    "cs.SaveAs(imageName)"
   ]
  },
  {
   "cell_type": "code",
   "execution_count": null,
   "metadata": {},
   "outputs": [],
   "source": []
  }
 ],
 "metadata": {
  "kernelspec": {
   "display_name": "myenv",
   "language": "python",
   "name": "python3"
  },
  "language_info": {
   "codemirror_mode": {
    "name": "ipython",
    "version": 3
   },
   "file_extension": ".py",
   "mimetype": "text/x-python",
   "name": "python",
   "nbconvert_exporter": "python",
   "pygments_lexer": "ipython3",
   "version": "3.11.3"
  }
 },
 "nbformat": 4,
 "nbformat_minor": 5
}
